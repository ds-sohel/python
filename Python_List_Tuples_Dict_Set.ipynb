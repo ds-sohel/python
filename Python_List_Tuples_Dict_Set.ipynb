{
 "cells": [
  {
   "cell_type": "markdown",
   "id": "74339bd6",
   "metadata": {},
   "source": [
    "# Lists, Tuples, Dictionries, Set"
   ]
  },
  {
   "cell_type": "markdown",
   "id": "f33be8a4",
   "metadata": {},
   "source": [
    "Lists - Allows Duplicate Member, Changeable, Ordered, Square Bracket []\n",
    "\n",
    "Tuples - Allows Duplicate Member, Not Changeable, Ordered, Round Bracket ()\n",
    "\n",
    "Dictionary - No Duplicate Member, Changeable / Indexed, Un-Ordered, Curley Bracket {}\n",
    "\n",
    "Set - Not Duplicate Member, Cannot be Change/ But Can Be Added / Non-Indexed, Un-Ordered, Curley Bracket {}"
   ]
  },
  {
   "cell_type": "markdown",
   "id": "1f7a8fa7",
   "metadata": {},
   "source": [
    "## Python List"
   ]
  },
  {
   "cell_type": "code",
   "execution_count": 1,
   "id": "b14be60f",
   "metadata": {},
   "outputs": [
    {
     "name": "stdout",
     "output_type": "stream",
     "text": [
      "[]\n",
      "<class 'list'>\n"
     ]
    }
   ],
   "source": [
    "list1 = list()\n",
    "\n",
    "print(list1)\n",
    "\n",
    "print(type(list1))"
   ]
  },
  {
   "cell_type": "code",
   "execution_count": 2,
   "id": "a993869e",
   "metadata": {},
   "outputs": [
    {
     "name": "stdout",
     "output_type": "stream",
     "text": [
      "['PyTorch', True, 202, 'Data Analysis', False, 404]\n"
     ]
    }
   ],
   "source": [
    "list2 = list(('PyTorch', True, 202, \"Data Analysis\", False, 404))\n",
    "\n",
    "print(list2)"
   ]
  },
  {
   "cell_type": "code",
   "execution_count": 3,
   "id": "27388ab5",
   "metadata": {},
   "outputs": [
    {
     "name": "stdout",
     "output_type": "stream",
     "text": [
      "['Uber', 'Food Panda', 'Wolt', 'Hungerstation', 'Pathao']\n",
      "<class 'list'>\n"
     ]
    }
   ],
   "source": [
    "list3 = [\"Uber\", \"Food Panda\", 'Wolt', 'Hungerstation', \"Pathao\"]\n",
    "\n",
    "print(list3)\n",
    "\n",
    "print(type(list3))"
   ]
  },
  {
   "cell_type": "code",
   "execution_count": 4,
   "id": "79bcb5d6",
   "metadata": {},
   "outputs": [
    {
     "name": "stdout",
     "output_type": "stream",
     "text": [
      "[10, 20, 15, 25, 30, 40, 35, 50, 45, 60]\n"
     ]
    }
   ],
   "source": [
    "list4 = [10, 20, 15, 25, 30, 40, 35, 50, 45, 60]\n",
    "\n",
    "print(list4)"
   ]
  },
  {
   "cell_type": "code",
   "execution_count": 5,
   "id": "ddf410d1",
   "metadata": {},
   "outputs": [
    {
     "name": "stdout",
     "output_type": "stream",
     "text": [
      "[True, False, True, False, False]\n"
     ]
    }
   ],
   "source": [
    "list5 = [True, False, True, False, False]\n",
    "\n",
    "print(list5)"
   ]
  },
  {
   "cell_type": "code",
   "execution_count": 6,
   "id": "36d2c361",
   "metadata": {},
   "outputs": [
    {
     "name": "stdout",
     "output_type": "stream",
     "text": [
      "['Dhaka', 'New-Delhi', 'Dubai', 101, False, 'Bangkok', 'Berlin', 'Paris', True, 301]\n"
     ]
    }
   ],
   "source": [
    "list6 = ['Dhaka', 'New-Delhi', 'Dubai', 101, False, 'Bangkok', 'Berlin', 'Paris', True, 301]\n",
    "\n",
    "print(list6)"
   ]
  },
  {
   "cell_type": "code",
   "execution_count": 7,
   "id": "e4a0a271",
   "metadata": {},
   "outputs": [
    {
     "name": "stdout",
     "output_type": "stream",
     "text": [
      "['Microsoft', 'IBM', 'Cisco', 'SQL', 'Flutter', 'Dart', 'JAVA', 'Go Lang', 'C-Program']\n",
      "\n",
      "\tList7[1] - IBM\n",
      "\n",
      "\tList7[4] - Flutter\n",
      "\n",
      "\tList7[-1] - C-Program\n",
      "\n",
      "\tList7[-2] - Go Lang\n",
      "\n",
      "\tList7[3:6] - ['SQL', 'Flutter', 'Dart']\n",
      "\n",
      "\tList7[-6:-2] - ['SQL', 'Flutter', 'Dart', 'JAVA']\n",
      "\n",
      "\tList7[3:] - ['SQL', 'Flutter', 'Dart', 'JAVA', 'Go Lang', 'C-Program']\n",
      "\n",
      "\tList7[:5] - ['Microsoft', 'IBM', 'Cisco', 'SQL', 'Flutter']\n"
     ]
    }
   ],
   "source": [
    "# Access List Item\n",
    "\n",
    "list7 = ['Microsoft', 'IBM', 'Cisco', 'SQL', 'Flutter', 'Dart', \"JAVA\", 'Go Lang', \"C-Program\"]\n",
    "\n",
    "print(list7)\n",
    "print(f\"\\n\\tList7[1] - {list7[1]}\")\n",
    "print(f\"\\n\\tList7[4] - {list7[4]}\")\n",
    "print(f\"\\n\\tList7[-1] - {list7[-1]}\")\n",
    "print(f\"\\n\\tList7[-2] - {list7[-2]}\")\n",
    "print(f\"\\n\\tList7[3:6] - {list7[3:6]}\")\n",
    "print(f\"\\n\\tList7[-6:-2] - {list7[-6:-2]}\")\n",
    "print(f\"\\n\\tList7[3:] - {list7[3:]}\")\n",
    "print(f\"\\n\\tList7[:5] - {list7[:5]}\")"
   ]
  },
  {
   "cell_type": "code",
   "execution_count": 8,
   "id": "7c22bf40",
   "metadata": {},
   "outputs": [
    {
     "name": "stdout",
     "output_type": "stream",
     "text": [
      "['Apple', 'iPhone', 'MacBook', 'iPad', 'iPod', 'Lenovo']\n",
      "Yes, iPhone is available in List8.\n"
     ]
    }
   ],
   "source": [
    "list8 = ['Apple', 'iPhone', 'MacBook', 'iPad', 'iPod', 'Lenovo']\n",
    "\n",
    "print(list8)\n",
    "\n",
    "if 'iPhone' in list8:\n",
    "    print(\"Yes, iPhone is available in List8.\")"
   ]
  },
  {
   "cell_type": "code",
   "execution_count": 9,
   "id": "7e74526f",
   "metadata": {},
   "outputs": [
    {
     "name": "stdout",
     "output_type": "stream",
     "text": [
      "['Apple', 'iPhone', 'MacBook', 'iPad', 'iPod', 'Lenovo']\n",
      "No, Dell is not present in List8.\n"
     ]
    }
   ],
   "source": [
    "list8 = ['Apple', 'iPhone', 'MacBook', 'iPad', 'iPod', 'Lenovo']\n",
    "\n",
    "print(list8)\n",
    "\n",
    "if 'Dell' in list8:\n",
    "    print(\"Yes, Dell is available in List8.\")\n",
    "else:\n",
    "    print(\"No, Dell is not present in List8.\")"
   ]
  },
  {
   "cell_type": "code",
   "execution_count": 10,
   "id": "dfb5e849",
   "metadata": {},
   "outputs": [
    {
     "name": "stdout",
     "output_type": "stream",
     "text": [
      "['iPhone', 'MacBook', 'MacBook Air', 'iPod']\n",
      "['iPhone', 'Lenovo ThinkPad', 'MacBook Air', 'iPad']\n"
     ]
    }
   ],
   "source": [
    "# Change List Item\n",
    "\n",
    "apple = ['iPhone', 'MacBook', 'MacBook Air', 'iPod']\n",
    "\n",
    "print(apple)\n",
    "\n",
    "apple[1] = \"Lenovo ThinkPad\"\n",
    "apple[-1] = \"iPad\"\n",
    "\n",
    "print(apple)"
   ]
  },
  {
   "cell_type": "code",
   "execution_count": 11,
   "id": "39a57933",
   "metadata": {},
   "outputs": [
    {
     "name": "stdout",
     "output_type": "stream",
     "text": [
      "['New York', 'California', 'London', 'Paris', 'Vancouver']\n",
      "['New York', 'California', 'Texas', 'Toronto', 'Vancouver']\n",
      "['New York', 'California', 'DUBAI', 'Vancouver']\n"
     ]
    }
   ],
   "source": [
    "city = ['New York', 'California', 'London', 'Paris', 'Vancouver']\n",
    "\n",
    "print(city)\n",
    "\n",
    "city[2:4] = ['Texas', 'Toronto']\n",
    "\n",
    "print(city)\n",
    "\n",
    "city[2:4] = [\"DUBAI\"]\n",
    "\n",
    "print(city)"
   ]
  },
  {
   "cell_type": "code",
   "execution_count": 12,
   "id": "6fc1ddf8",
   "metadata": {},
   "outputs": [
    {
     "name": "stdout",
     "output_type": "stream",
     "text": [
      "['Python', 'Django', 'SciKit-Learn', 'Pandas', 'Numpy', 'Flask']\n",
      "SciKit-Learn\n",
      "['Python', 'Django']\n",
      "['Python', 'Django', 'Matplotlib', 'SciKit-Learn', 'Pandas', 'Numpy', 'Flask']\n"
     ]
    }
   ],
   "source": [
    "pro = ['Python', 'Django', \"SciKit-Learn\", 'Pandas', 'Numpy', 'Flask']\n",
    "\n",
    "print(pro)\n",
    "print(pro[2])\n",
    "print(pro[0:2])\n",
    "\n",
    "pro.insert(2, 'Matplotlib')\n",
    "\n",
    "print(pro)"
   ]
  },
  {
   "cell_type": "code",
   "execution_count": 13,
   "id": "5417a1a8",
   "metadata": {},
   "outputs": [
    {
     "name": "stdout",
     "output_type": "stream",
     "text": [
      "['Excel', 'Python', 'SQL', 'R']\n",
      "['Excel', 'Python', 'SQL', 'R', 'Power-BI', 'Tableu']\n"
     ]
    }
   ],
   "source": [
    "# Add List Item\n",
    "\n",
    "data = ['Excel', 'Python', 'SQL', 'R']\n",
    "\n",
    "print(data)\n",
    "\n",
    "data.append('Power-BI')\n",
    "data.append('Tableu')\n",
    "\n",
    "print(data)"
   ]
  },
  {
   "cell_type": "code",
   "execution_count": 14,
   "id": "b2e96b28",
   "metadata": {},
   "outputs": [
    {
     "name": "stdout",
     "output_type": "stream",
     "text": [
      "['Excel', 'Python', 'SQL', 'R']\n",
      "['Power-BI', 'Excel', 'Python', 'SQL', 'R']\n"
     ]
    }
   ],
   "source": [
    "data = ['Excel', 'Python', 'SQL', 'R']\n",
    "\n",
    "print(data)\n",
    "\n",
    "data.insert(0, 'Power-BI')\n",
    "\n",
    "print(data)"
   ]
  },
  {
   "cell_type": "code",
   "execution_count": 15,
   "id": "60fde4fb",
   "metadata": {},
   "outputs": [
    {
     "name": "stdout",
     "output_type": "stream",
     "text": [
      "['If', 'Sum', 'Pivot-Table', 'Lookup']\n",
      "['create', 'left-join', 'right-join', 'inner-join', 'drop-table']\n",
      "['If', 'Sum', 'Pivot-Table', 'Lookup', 'create', 'left-join', 'right-join', 'inner-join', 'drop-table']\n"
     ]
    }
   ],
   "source": [
    "excel = [\"If\", 'Sum', 'Pivot-Table', 'Lookup']\n",
    "\n",
    "sql = ['create', 'left-join', 'right-join', 'inner-join', 'drop-table']\n",
    "\n",
    "print(excel)\n",
    "print(sql)\n",
    "\n",
    "excel.extend(sql)\n",
    "\n",
    "print(excel)"
   ]
  },
  {
   "cell_type": "code",
   "execution_count": 16,
   "id": "c7d81e2f",
   "metadata": {},
   "outputs": [
    {
     "name": "stdout",
     "output_type": "stream",
     "text": [
      "['Tesla', 'Twitter', 'Google', 'Cisco', 'Apple']\n",
      "['Tesla', 'Google', 'Cisco', 'Apple']\n"
     ]
    }
   ],
   "source": [
    "# Python - Remove List Items\n",
    "\n",
    "tech = ['Tesla', 'Twitter', 'Google', 'Cisco', 'Apple']\n",
    "\n",
    "print(tech)\n",
    "\n",
    "tech.remove('Twitter')\n",
    "\n",
    "print(tech)"
   ]
  },
  {
   "cell_type": "code",
   "execution_count": 17,
   "id": "e29117a5",
   "metadata": {},
   "outputs": [
    {
     "name": "stdout",
     "output_type": "stream",
     "text": [
      "['Tesla', 'Twitter', 'Google', 'Cisco', 'Apple']\n",
      "['Tesla', 'Twitter', 'Cisco', 'Apple']\n"
     ]
    }
   ],
   "source": [
    "tech = ['Tesla', 'Twitter', 'Google', 'Cisco', 'Apple']\n",
    "\n",
    "print(tech)\n",
    "\n",
    "tech.pop(2)\n",
    "\n",
    "print(tech)"
   ]
  },
  {
   "cell_type": "code",
   "execution_count": 18,
   "id": "2cfc59ad",
   "metadata": {},
   "outputs": [
    {
     "name": "stdout",
     "output_type": "stream",
     "text": [
      "['Tesla', 'Twitter', 'Google', 'Cisco', 'Apple']\n",
      "['Tesla', 'Twitter', 'Google', 'Cisco']\n"
     ]
    }
   ],
   "source": [
    "tech = ['Tesla', 'Twitter', 'Google', 'Cisco', 'Apple']\n",
    "\n",
    "print(tech)\n",
    "\n",
    "tech.pop()\n",
    "\n",
    "print(tech)"
   ]
  },
  {
   "cell_type": "code",
   "execution_count": 19,
   "id": "a06f497f",
   "metadata": {},
   "outputs": [
    {
     "name": "stdout",
     "output_type": "stream",
     "text": [
      "['Tesla', 'Twitter', 'Google', 'Cisco', 'Apple']\n",
      "['Tesla', 'Google', 'Cisco', 'Apple']\n"
     ]
    }
   ],
   "source": [
    "tech = ['Tesla', 'Twitter', 'Google', 'Cisco', 'Apple']\n",
    "\n",
    "print(tech)\n",
    "\n",
    "tech.pop(1)\n",
    "\n",
    "print(tech)"
   ]
  },
  {
   "cell_type": "code",
   "execution_count": 20,
   "id": "cb8f2db6",
   "metadata": {},
   "outputs": [
    {
     "name": "stdout",
     "output_type": "stream",
     "text": [
      "['Tesla', 'Twitter', 'Google', 'Cisco', 'Apple']\n",
      "['Twitter', 'Google', 'Cisco', 'Apple']\n"
     ]
    }
   ],
   "source": [
    "tech = ['Tesla', 'Twitter', 'Google', 'Cisco', 'Apple']\n",
    "\n",
    "print(tech)\n",
    "\n",
    "del tech[0]\n",
    "\n",
    "print(tech)"
   ]
  },
  {
   "cell_type": "code",
   "execution_count": 21,
   "id": "b2cb94cc",
   "metadata": {},
   "outputs": [
    {
     "name": "stdout",
     "output_type": "stream",
     "text": [
      "['Tesla', 'Twitter', 'Google', 'Cisco', 'Apple']\n"
     ]
    },
    {
     "ename": "NameError",
     "evalue": "name 'tech' is not defined",
     "output_type": "error",
     "traceback": [
      "\u001b[1;31m---------------------------------------------------------------------------\u001b[0m",
      "\u001b[1;31mNameError\u001b[0m                                 Traceback (most recent call last)",
      "\u001b[1;32m~\\AppData\\Local\\Temp\\ipykernel_12132\\3879960234.py\u001b[0m in \u001b[0;36m<module>\u001b[1;34m\u001b[0m\n\u001b[0;32m      5\u001b[0m \u001b[1;32mdel\u001b[0m \u001b[0mtech\u001b[0m\u001b[1;33m\u001b[0m\u001b[1;33m\u001b[0m\u001b[0m\n\u001b[0;32m      6\u001b[0m \u001b[1;33m\u001b[0m\u001b[0m\n\u001b[1;32m----> 7\u001b[1;33m \u001b[0mprint\u001b[0m\u001b[1;33m(\u001b[0m\u001b[0mtech\u001b[0m\u001b[1;33m)\u001b[0m\u001b[1;33m\u001b[0m\u001b[1;33m\u001b[0m\u001b[0m\n\u001b[0m",
      "\u001b[1;31mNameError\u001b[0m: name 'tech' is not defined"
     ]
    }
   ],
   "source": [
    "tech = ['Tesla', 'Twitter', 'Google', 'Cisco', 'Apple']\n",
    "\n",
    "print(tech)\n",
    "\n",
    "del tech\n",
    "\n",
    "print(tech)"
   ]
  },
  {
   "cell_type": "code",
   "execution_count": 22,
   "id": "4984abf3",
   "metadata": {},
   "outputs": [
    {
     "name": "stdout",
     "output_type": "stream",
     "text": [
      "['Tesla', 'Twitter', 'Google', 'Cisco', 'Apple']\n",
      "[]\n"
     ]
    }
   ],
   "source": [
    "tech = ['Tesla', 'Twitter', 'Google', 'Cisco', 'Apple']\n",
    "\n",
    "print(tech)\n",
    "\n",
    "tech.clear()\n",
    "\n",
    "print(tech)"
   ]
  },
  {
   "cell_type": "code",
   "execution_count": 23,
   "id": "1e155baf",
   "metadata": {},
   "outputs": [
    {
     "name": "stdout",
     "output_type": "stream",
     "text": [
      "['SQL', 'Tableau', 'Python', 'Power-BI', 'Excel', True, 2023]\n",
      "SQL\n",
      "Tableau\n",
      "Python\n",
      "Power-BI\n",
      "Excel\n",
      "True\n",
      "2023\n"
     ]
    }
   ],
   "source": [
    "# Python - Loop Lists\n",
    "\n",
    "loop = ['SQL', 'Tableau', 'Python', 'Power-BI', 'Excel', True, 2023]\n",
    "\n",
    "print(loop)\n",
    "\n",
    "for x in loop:\n",
    "    print(x)"
   ]
  },
  {
   "cell_type": "code",
   "execution_count": 24,
   "id": "94b7e5ca",
   "metadata": {},
   "outputs": [
    {
     "name": "stdout",
     "output_type": "stream",
     "text": [
      "['SQL', 'Tableau', 'Python', 'Power-BI', 'Excel', True, 2023]\n",
      "SQL\n",
      "Tableau\n",
      "Python\n",
      "Power-BI\n",
      "Excel\n",
      "True\n",
      "2023\n"
     ]
    }
   ],
   "source": [
    "loop = ['SQL', 'Tableau', 'Python', 'Power-BI', 'Excel', True, 2023]\n",
    "\n",
    "print(loop)\n",
    "\n",
    "for x in range(len(loop)):\n",
    "    print(loop[x])"
   ]
  },
  {
   "cell_type": "code",
   "execution_count": 25,
   "id": "0a7d13fb",
   "metadata": {},
   "outputs": [
    {
     "name": "stdout",
     "output_type": "stream",
     "text": [
      "SQL\n",
      "Tableau\n",
      "Python\n",
      "Power-BI\n",
      "Excel\n",
      "True\n",
      "2023\n"
     ]
    }
   ],
   "source": [
    "loop = ['SQL', 'Tableau', 'Python', 'Power-BI', 'Excel', True, 2023]\n",
    "\n",
    "i = 0\n",
    "\n",
    "while i < len(loop):\n",
    "    print(loop[i])\n",
    "    i += 1"
   ]
  },
  {
   "cell_type": "code",
   "execution_count": 26,
   "id": "8e1e8125",
   "metadata": {},
   "outputs": [
    {
     "name": "stdout",
     "output_type": "stream",
     "text": [
      "SQL\n",
      "Tableau\n",
      "Python\n",
      "Power-BI\n",
      "Excel\n",
      "True\n",
      "2023\n"
     ]
    },
    {
     "data": {
      "text/plain": [
       "[None, None, None, None, None, None, None]"
      ]
     },
     "execution_count": 26,
     "metadata": {},
     "output_type": "execute_result"
    }
   ],
   "source": [
    "loop = ['SQL', 'Tableau', 'Python', 'Power-BI', 'Excel', True, 2023]\n",
    "\n",
    "[print(x) for x in loop]"
   ]
  },
  {
   "cell_type": "markdown",
   "id": "c14634a7",
   "metadata": {},
   "source": [
    "List Comprehension\n"
   ]
  },
  {
   "cell_type": "code",
   "execution_count": 27,
   "id": "ccbd2630",
   "metadata": {},
   "outputs": [
    {
     "name": "stdout",
     "output_type": "stream",
     "text": [
      "['apple', 'banana', 'mango']\n"
     ]
    }
   ],
   "source": [
    "fruits = [\"apple\", \"banana\", \"cherry\", \"kiwi\", \"mango\"]\n",
    "newlist = []\n",
    "\n",
    "for x in fruits:\n",
    "    if \"a\" in x:\n",
    "        newlist.append(x)\n",
    "\n",
    "print(newlist)"
   ]
  },
  {
   "cell_type": "code",
   "execution_count": 28,
   "id": "21ac62ab",
   "metadata": {},
   "outputs": [
    {
     "name": "stdout",
     "output_type": "stream",
     "text": [
      "['apple', 'banana', 'cherry', 'kiwi', 'mango']\n"
     ]
    }
   ],
   "source": [
    "fruits = [\"apple\", \"banana\", \"cherry\", \"kiwi\", \"mango\"]\n",
    "newlist = []\n",
    "\n",
    "for x in fruits:\n",
    "    newlist.append(x)\n",
    "\n",
    "print(newlist)"
   ]
  },
  {
   "cell_type": "code",
   "execution_count": 29,
   "id": "5d11bfd3",
   "metadata": {},
   "outputs": [
    {
     "name": "stdout",
     "output_type": "stream",
     "text": [
      "['apple', 'banana', 'mango']\n"
     ]
    }
   ],
   "source": [
    "fruits = [\"apple\", \"banana\", \"cherry\", \"kiwi\", \"mango\"]\n",
    "\n",
    "newlist = [x for x in fruits if \"a\" in x]\n",
    "\n",
    "print(newlist)"
   ]
  },
  {
   "cell_type": "code",
   "execution_count": 30,
   "id": "5061cccc",
   "metadata": {},
   "outputs": [
    {
     "name": "stdout",
     "output_type": "stream",
     "text": [
      "['Auckland', 'Berlin', 'Dhaka', 'London', 'New York', 'Rome', 'Singapore', 'Toronto', 'Zvartnots']\n"
     ]
    }
   ],
   "source": [
    "# Sort List\n",
    "\n",
    "serial = ['New York', 'Toronto', 'London', 'Dhaka', 'Auckland', 'Singapore', 'Berlin', 'Zvartnots', 'Rome']\n",
    "\n",
    "serial.sort()\n",
    "\n",
    "print(serial)"
   ]
  },
  {
   "cell_type": "code",
   "execution_count": 31,
   "id": "22d690de",
   "metadata": {},
   "outputs": [
    {
     "name": "stdout",
     "output_type": "stream",
     "text": [
      "['Zvartnots', 'Toronto', 'Singapore', 'Rome', 'New York', 'London', 'Dhaka', 'Berlin', 'Auckland']\n"
     ]
    }
   ],
   "source": [
    "serial = ['New York', 'Toronto', 'London', 'Dhaka', 'Auckland', 'Singapore', 'Berlin', 'Zvartnots', 'Rome']\n",
    "\n",
    "serial.sort(reverse = True)\n",
    "\n",
    "print(serial)"
   ]
  },
  {
   "cell_type": "code",
   "execution_count": 32,
   "id": "89aa9e38",
   "metadata": {},
   "outputs": [
    {
     "name": "stdout",
     "output_type": "stream",
     "text": [
      "[10, 20, 30, 40, 50, 60, 70, 80, 90, 100]\n"
     ]
    }
   ],
   "source": [
    "series = [50, 40, 60, 80, 100, 20, 90, 10, 30, 70]\n",
    "\n",
    "series.sort()\n",
    "\n",
    "print(series)"
   ]
  },
  {
   "cell_type": "code",
   "execution_count": 33,
   "id": "63ef6449",
   "metadata": {},
   "outputs": [
    {
     "name": "stdout",
     "output_type": "stream",
     "text": [
      "[100, 90, 80, 70, 60, 50, 40, 30, 20, 10]\n"
     ]
    }
   ],
   "source": [
    "series = [50, 40, 60, 80, 100, 20, 90, 10, 30, 70]\n",
    "\n",
    "series.sort(reverse = True)\n",
    "\n",
    "print(series)"
   ]
  },
  {
   "cell_type": "markdown",
   "id": "f9ff21e2",
   "metadata": {},
   "source": [
    "Python - Copy Lists\n"
   ]
  },
  {
   "cell_type": "code",
   "execution_count": 34,
   "id": "d64ab1f5",
   "metadata": {},
   "outputs": [
    {
     "name": "stdout",
     "output_type": "stream",
     "text": [
      "['New York', 'Toronto', 'London', 'Dhaka', 'Auckland', 'Singapore', 'Berlin', 'Zvartnots', 'Rome']\n"
     ]
    }
   ],
   "source": [
    "serial = ['New York', 'Toronto', 'London', 'Dhaka', 'Auckland', 'Singapore', 'Berlin', 'Zvartnots', 'Rome']\n",
    "\n",
    "city = serial.copy()\n",
    "\n",
    "print(city)"
   ]
  },
  {
   "cell_type": "code",
   "execution_count": 35,
   "id": "0284c1c3",
   "metadata": {},
   "outputs": [
    {
     "name": "stdout",
     "output_type": "stream",
     "text": [
      "['New York', 'Toronto', 'London', 'Dhaka', 'Auckland', 'Singapore', 'Berlin', 'Zvartnots', 'Rome']\n"
     ]
    }
   ],
   "source": [
    "# List Copy\n",
    "\n",
    "newCity = list(city)\n",
    "\n",
    "print(newCity)"
   ]
  },
  {
   "cell_type": "code",
   "execution_count": 36,
   "id": "7cac00de",
   "metadata": {},
   "outputs": [
    {
     "name": "stdout",
     "output_type": "stream",
     "text": [
      "['Zvartnots', 'Toronto', 'Singapore', 'Rome', 'New York', 'London', 'Dhaka', 'Berlin', 'Auckland']\n"
     ]
    }
   ],
   "source": [
    "newCity.sort(reverse = True)\n",
    "\n",
    "print(newCity)"
   ]
  },
  {
   "cell_type": "code",
   "execution_count": 37,
   "id": "5a9a4b4d",
   "metadata": {},
   "outputs": [
    {
     "name": "stdout",
     "output_type": "stream",
     "text": [
      "['Berlin', 'California', 'Toronto', 'London', 'Dubai', 'Dhaka']\n"
     ]
    }
   ],
   "source": [
    "# Python - Join Lists\n",
    "\n",
    "city1 = ['Berlin', 'California', 'Toronto']\n",
    "city2 = ['London', 'Dubai', 'Dhaka']\n",
    "\n",
    "city = city1 + city2\n",
    "\n",
    "print(city)"
   ]
  },
  {
   "cell_type": "code",
   "execution_count": 38,
   "id": "0252d96c",
   "metadata": {},
   "outputs": [
    {
     "name": "stdout",
     "output_type": "stream",
     "text": [
      "['Berlin', 'California', 'Toronto', 'London', 'Dubai', 'Dhaka']\n"
     ]
    }
   ],
   "source": [
    "city1 = ['Berlin', 'California', 'Toronto']\n",
    "city2 = ['London', 'Dubai', 'Dhaka']\n",
    "city3 = list()\n",
    "\n",
    "for x in (city1 + city2):\n",
    "    city3.append(x)\n",
    "\n",
    "print(city3)"
   ]
  },
  {
   "cell_type": "code",
   "execution_count": 39,
   "id": "b1c322c2",
   "metadata": {},
   "outputs": [
    {
     "name": "stdout",
     "output_type": "stream",
     "text": [
      "['London', 'Dubai', 'Dhaka']\n"
     ]
    }
   ],
   "source": [
    "city1 = ['Berlin', 'California', 'Toronto']\n",
    "city2 = ['London', 'Dubai', 'Dhaka']\n",
    "cityex = []\n",
    "\n",
    "cityex.extend(city2)\n",
    "\n",
    "print(cityex)"
   ]
  },
  {
   "cell_type": "markdown",
   "id": "fe5a8342",
   "metadata": {},
   "source": [
    "## Python Tuples"
   ]
  },
  {
   "cell_type": "code",
   "execution_count": 40,
   "id": "f83bcc76",
   "metadata": {},
   "outputs": [
    {
     "name": "stdout",
     "output_type": "stream",
     "text": [
      "<class 'tuple'>\n"
     ]
    }
   ],
   "source": [
    "tuples = tuple()\n",
    "\n",
    "print(type(tuples))"
   ]
  },
  {
   "cell_type": "code",
   "execution_count": 41,
   "id": "22abf599",
   "metadata": {},
   "outputs": [
    {
     "name": "stdout",
     "output_type": "stream",
     "text": [
      "('Apple', 101, True)\n",
      "<class 'tuple'>\n"
     ]
    }
   ],
   "source": [
    "tapol = tuple(('Apple', 101, True))\n",
    "\n",
    "print(tapol)\n",
    "print(type(tapol))"
   ]
  },
  {
   "cell_type": "code",
   "execution_count": 42,
   "id": "30a882b5",
   "metadata": {},
   "outputs": [
    {
     "name": "stdout",
     "output_type": "stream",
     "text": [
      "('Apple', 'Samsung', 'Sony', 'One-Plus', 'Vivo')\n"
     ]
    }
   ],
   "source": [
    "tapol = ('Apple', 'Samsung', 'Sony', 'One-Plus', 'Vivo')\n",
    "\n",
    "print(tapol)"
   ]
  },
  {
   "cell_type": "code",
   "execution_count": 43,
   "id": "41040b31",
   "metadata": {},
   "outputs": [
    {
     "name": "stdout",
     "output_type": "stream",
     "text": [
      "(10, 30, 40, 80, 20, 90, 70, 60, 10, 90, 40)\n",
      "<class 'tuple'>\n"
     ]
    }
   ],
   "source": [
    "tapon = (10, 30, 40, 80, 20, 90, 70, 60, 10, 90, 40)\n",
    "\n",
    "print(tapon)\n",
    "\n",
    "print(type(tapon))"
   ]
  },
  {
   "cell_type": "code",
   "execution_count": 44,
   "id": "c503e006",
   "metadata": {},
   "outputs": [
    {
     "name": "stdout",
     "output_type": "stream",
     "text": [
      "HP\n"
     ]
    }
   ],
   "source": [
    "tapol = (\"Dell\", \"HP\", \"Lenovo\")\n",
    "\n",
    "print(tapol[1])"
   ]
  },
  {
   "cell_type": "code",
   "execution_count": 45,
   "id": "109084b1",
   "metadata": {},
   "outputs": [
    {
     "name": "stdout",
     "output_type": "stream",
     "text": [
      "('Dhaka', 'Dubai', 'Singapore', 'Tokyo', 'Sydney', 'Auckland', 'London', 'Paris', 'Bercelona', 'Madrid', 'Vancouver')\n",
      "\n",
      "tapol[1:5]\n",
      "('Dubai', 'Singapore', 'Tokyo', 'Sydney')\n",
      "\n",
      "tapol[:5]\n",
      "('Dhaka', 'Dubai', 'Singapore', 'Tokyo', 'Sydney')\n",
      "\n",
      "tapol[5:]\n",
      "('Auckland', 'London', 'Paris', 'Bercelona', 'Madrid', 'Vancouver')\n",
      "\n",
      "tapol[-1]\n",
      "Vancouver\n",
      "\n",
      "tapol[-5:-1]\n",
      "('London', 'Paris', 'Bercelona', 'Madrid')\n",
      "\n",
      "tapol[-5:]\n",
      "('London', 'Paris', 'Bercelona', 'Madrid', 'Vancouver')\n"
     ]
    }
   ],
   "source": [
    "# Access Tapol\n",
    "\n",
    "tapol = (\"Dhaka\", \"Dubai\", \"Singapore\", \"Tokyo\", \"Sydney\", \"Auckland\", \"London\", \"Paris\", \"Bercelona\", 'Madrid', 'Vancouver')\n",
    "\n",
    "print(tapol)\n",
    "print(\"\\ntapol[1:5]\")\n",
    "print(tapol[1:5])\n",
    "print(\"\\ntapol[:5]\")\n",
    "print(tapol[:5])\n",
    "print(\"\\ntapol[5:]\")\n",
    "print(tapol[5:])\n",
    "print(\"\\ntapol[-1]\")\n",
    "print(tapol[-1])\n",
    "print(\"\\ntapol[-5:-1]\")\n",
    "print(tapol[-5:-1])\n",
    "print(\"\\ntapol[-5:]\")\n",
    "print(tapol[-5:])"
   ]
  },
  {
   "cell_type": "code",
   "execution_count": 46,
   "id": "1fcc8c2d",
   "metadata": {},
   "outputs": [
    {
     "name": "stdout",
     "output_type": "stream",
     "text": [
      "Asian City List in This Tapol\n"
     ]
    }
   ],
   "source": [
    "tapol = (\"Dhaka\", \"Dubai\", \"Singapore\", \"Tokyo\", \"Sydney\", \"Auckland\", \"London\", \"Paris\", \"Bercelona\", 'Madrid', 'Vancouver')\n",
    "\n",
    "if \"Dhaka\" in tapol:\n",
    "    print(\"Asian City List in This Tapol\")\n",
    "else:\n",
    "    print(\"Dhaka is Not Available Here\")"
   ]
  },
  {
   "cell_type": "code",
   "execution_count": 47,
   "id": "1566f453",
   "metadata": {},
   "outputs": [
    {
     "name": "stdout",
     "output_type": "stream",
     "text": [
      "Dhaka City is Available Here\n"
     ]
    }
   ],
   "source": [
    "tapol = (\"Dhaka\", \"Dubai\", \"Singapore\", \"Tokyo\", \"Sydney\", \"Auckland\", \"London\", \"Paris\", \"Bercelona\", 'Madrid', 'Vancouver')\n",
    "\n",
    "if \"Dhaka\" not in tapol:\n",
    "    print(\"Yes. Dhaka City is not List in This Tapol\")\n",
    "else:\n",
    "    print(\"Dhaka City is Available Here\")"
   ]
  },
  {
   "cell_type": "code",
   "execution_count": 48,
   "id": "e5f53cdd",
   "metadata": {},
   "outputs": [
    {
     "name": "stdout",
     "output_type": "stream",
     "text": [
      "New-York is Not Available Here\n"
     ]
    }
   ],
   "source": [
    "tapol = (\"Dhaka\", \"Dubai\", \"Singapore\", \"Tokyo\", \"Sydney\", \"Auckland\", \"London\", \"Paris\", \"Bercelona\", 'Madrid', 'Vancouver')\n",
    "\n",
    "if \"New-York\" in tapol:\n",
    "    print(\"New-York City List in This Tapol\")\n",
    "else:\n",
    "    print(\"New-York is Not Available Here\")"
   ]
  },
  {
   "cell_type": "code",
   "execution_count": 49,
   "id": "0d945acb",
   "metadata": {},
   "outputs": [
    {
     "name": "stdout",
     "output_type": "stream",
     "text": [
      "Yes, Berlin City is Not List in This Tapol\n"
     ]
    }
   ],
   "source": [
    "tapol = (\"Dhaka\", \"Dubai\", \"Singapore\", \"Tokyo\", \"Sydney\", \"Auckland\", \"London\", \"Paris\", \"Bercelona\", 'Madrid', 'Vancouver')\n",
    "\n",
    "if \"Berlin\" not in tapol:\n",
    "    print(\"Yes, Berlin City is Not List in This Tapol\")\n",
    "else:\n",
    "    print(\"Berlin is Available Here\")"
   ]
  },
  {
   "cell_type": "code",
   "execution_count": 50,
   "id": "08c288f3",
   "metadata": {},
   "outputs": [
    {
     "name": "stdout",
     "output_type": "stream",
     "text": [
      "('Car', 'Bus', 'Cycle')\n"
     ]
    }
   ],
   "source": [
    "# Change Tuple Values\n",
    "\n",
    "# Convert the tuple into a list to be able to change it:\n",
    "\n",
    "ab = ('Car', \"Bike\", \"Cycle\")\n",
    "\n",
    "a = list(ab)\n",
    "\n",
    "a[1] = \"Bus\"\n",
    "\n",
    "ab = tuple(a)\n",
    "\n",
    "print(ab)"
   ]
  },
  {
   "cell_type": "code",
   "execution_count": 51,
   "id": "07fe72d1",
   "metadata": {},
   "outputs": [
    {
     "name": "stdout",
     "output_type": "stream",
     "text": [
      "('apple', 'banana', 'cherry', 'orange')\n"
     ]
    }
   ],
   "source": [
    "# Add Tuple Values\n",
    "\n",
    "# Convert the tuple into a list to be able to change it:\n",
    "\n",
    "thistuple = (\"apple\", \"banana\", \"cherry\")\n",
    "y = list(thistuple)\n",
    "y.append(\"orange\")\n",
    "thistuple = tuple(y)\n",
    "\n",
    "print(thistuple)"
   ]
  },
  {
   "cell_type": "code",
   "execution_count": 52,
   "id": "af642c8c",
   "metadata": {},
   "outputs": [
    {
     "name": "stdout",
     "output_type": "stream",
     "text": [
      "('Hello', 'Hi', 'Bye', 'Ok', 'Good')\n",
      "<class 'tuple'>\n"
     ]
    }
   ],
   "source": [
    "# add tuple item\n",
    "\n",
    "x = ('Hello', \"Hi\", 'Bye')\n",
    "\n",
    "y = (\"Ok\", 'Good')\n",
    "\n",
    "x += y\n",
    "\n",
    "print(x)\n",
    "print(type(x))"
   ]
  },
  {
   "cell_type": "code",
   "execution_count": 53,
   "id": "38630353",
   "metadata": {},
   "outputs": [
    {
     "name": "stdout",
     "output_type": "stream",
     "text": [
      "('banana', 'cherry')\n"
     ]
    }
   ],
   "source": [
    "# Convert the tuple into a list, remove \"apple\", and convert it back into a tuple:\n",
    "\n",
    "thistuple = (\"apple\", \"banana\", \"cherry\")\n",
    "y = list(thistuple)\n",
    "y.remove(\"apple\")\n",
    "thistuple = tuple(y)\n",
    "\n",
    "print(thistuple)"
   ]
  },
  {
   "cell_type": "code",
   "execution_count": 54,
   "id": "679b6282",
   "metadata": {},
   "outputs": [
    {
     "ename": "NameError",
     "evalue": "name 'thistuple' is not defined",
     "output_type": "error",
     "traceback": [
      "\u001b[1;31m---------------------------------------------------------------------------\u001b[0m",
      "\u001b[1;31mNameError\u001b[0m                                 Traceback (most recent call last)",
      "\u001b[1;32m~\\AppData\\Local\\Temp\\ipykernel_12132\\521092315.py\u001b[0m in \u001b[0;36m<module>\u001b[1;34m\u001b[0m\n\u001b[0;32m      3\u001b[0m \u001b[0mthistuple\u001b[0m \u001b[1;33m=\u001b[0m \u001b[1;33m(\u001b[0m\u001b[1;34m\"apple\"\u001b[0m\u001b[1;33m,\u001b[0m \u001b[1;34m\"banana\"\u001b[0m\u001b[1;33m,\u001b[0m \u001b[1;34m\"cherry\"\u001b[0m\u001b[1;33m)\u001b[0m\u001b[1;33m\u001b[0m\u001b[1;33m\u001b[0m\u001b[0m\n\u001b[0;32m      4\u001b[0m \u001b[1;32mdel\u001b[0m \u001b[0mthistuple\u001b[0m\u001b[1;33m\u001b[0m\u001b[1;33m\u001b[0m\u001b[0m\n\u001b[1;32m----> 5\u001b[1;33m \u001b[0mprint\u001b[0m\u001b[1;33m(\u001b[0m\u001b[0mthistuple\u001b[0m\u001b[1;33m)\u001b[0m\u001b[1;33m\u001b[0m\u001b[1;33m\u001b[0m\u001b[0m\n\u001b[0m",
      "\u001b[1;31mNameError\u001b[0m: name 'thistuple' is not defined"
     ]
    }
   ],
   "source": [
    "# The del keyword can delete the tuple completely:\n",
    "\n",
    "thistuple = (\"apple\", \"banana\", \"cherry\")\n",
    "del thistuple\n",
    "print(thistuple)"
   ]
  },
  {
   "cell_type": "code",
   "execution_count": 55,
   "id": "d35ed9ef",
   "metadata": {},
   "outputs": [
    {
     "name": "stdout",
     "output_type": "stream",
     "text": [
      "apple\n",
      "banana\n",
      "cherry\n"
     ]
    }
   ],
   "source": [
    "# Unpacking a tuple:\n",
    "\n",
    "fruits = (\"apple\", \"banana\", \"cherry\")\n",
    "\n",
    "(green, yellow, red) = fruits\n",
    "\n",
    "print(green)\n",
    "print(yellow)\n",
    "print(red)"
   ]
  },
  {
   "cell_type": "code",
   "execution_count": 56,
   "id": "9ef95cc7",
   "metadata": {},
   "outputs": [
    {
     "name": "stdout",
     "output_type": "stream",
     "text": [
      "apple\n",
      "banana\n",
      "cherry\n"
     ]
    }
   ],
   "source": [
    "fruits = (\"apple\", \"banana\", \"cherry\")\n",
    "\n",
    "(f1, f2, f3) = fruits\n",
    "\n",
    "print(f1)\n",
    "print(f2)\n",
    "print(f3)"
   ]
  },
  {
   "cell_type": "code",
   "execution_count": 57,
   "id": "cd6b7647",
   "metadata": {},
   "outputs": [
    {
     "name": "stdout",
     "output_type": "stream",
     "text": [
      "apple\n",
      "banana\n",
      "['cherry', 'strawberry', 'raspberry']\n"
     ]
    }
   ],
   "source": [
    "fruits = (\"apple\", \"banana\", \"cherry\", \"strawberry\", \"raspberry\")\n",
    "\n",
    "(green, yellow, *red) = fruits\n",
    "\n",
    "print(green)\n",
    "print(yellow)\n",
    "print(red)"
   ]
  },
  {
   "cell_type": "code",
   "execution_count": 58,
   "id": "826870ed",
   "metadata": {},
   "outputs": [
    {
     "name": "stdout",
     "output_type": "stream",
     "text": [
      "apple\n",
      "['mango', 'papaya', 'pineapple']\n",
      "cherry\n"
     ]
    }
   ],
   "source": [
    "fruits = (\"apple\", \"mango\", \"papaya\", \"pineapple\", \"cherry\")\n",
    "\n",
    "(green, *tropic, red) = fruits\n",
    "\n",
    "print(green)\n",
    "print(tropic)\n",
    "print(red)"
   ]
  },
  {
   "cell_type": "code",
   "execution_count": 59,
   "id": "0bae076d",
   "metadata": {},
   "outputs": [
    {
     "name": "stdout",
     "output_type": "stream",
     "text": [
      "apple\n",
      "banana\n",
      "cherry\n"
     ]
    }
   ],
   "source": [
    "# Loop Through a Tuple\n",
    "\n",
    "thistuple = (\"apple\", \"banana\", \"cherry\")\n",
    "for x in thistuple:\n",
    "    print(x)"
   ]
  },
  {
   "cell_type": "code",
   "execution_count": 60,
   "id": "fab55c53",
   "metadata": {},
   "outputs": [
    {
     "name": "stdout",
     "output_type": "stream",
     "text": [
      "apple\n",
      "banana\n",
      "cherry\n"
     ]
    }
   ],
   "source": [
    "thistuple = (\"apple\", \"banana\", \"cherry\")\n",
    "for x in thistuple:\n",
    "    print(x)"
   ]
  },
  {
   "cell_type": "markdown",
   "id": "4a53aaa3",
   "metadata": {},
   "source": [
    "## Python Dictionary"
   ]
  },
  {
   "cell_type": "code",
   "execution_count": 61,
   "id": "821db8a3",
   "metadata": {},
   "outputs": [
    {
     "name": "stdout",
     "output_type": "stream",
     "text": [
      "{}\n",
      "<class 'dict'>\n"
     ]
    }
   ],
   "source": [
    "empty_dict = {}\n",
    "\n",
    "print(empty_dict)\n",
    "print(type(empty_dict))"
   ]
  },
  {
   "cell_type": "code",
   "execution_count": 62,
   "id": "2ffcc0bc",
   "metadata": {},
   "outputs": [
    {
     "data": {
      "text/plain": [
       "{'Name': 'Sohel', 'Sub': 'Information Technology', 'Roll': 202315}"
      ]
     },
     "execution_count": 62,
     "metadata": {},
     "output_type": "execute_result"
    }
   ],
   "source": [
    "dic = {\n",
    "    'Name': \"Sohel\",\n",
    "    'Sub' : 'Information Technology',\n",
    "    \"Roll\" : 202315\n",
    "}\n",
    "\n",
    "dic"
   ]
  },
  {
   "cell_type": "code",
   "execution_count": 63,
   "id": "fd29f30c",
   "metadata": {},
   "outputs": [
    {
     "data": {
      "text/plain": [
       "'Sohel'"
      ]
     },
     "execution_count": 63,
     "metadata": {},
     "output_type": "execute_result"
    }
   ],
   "source": [
    "dic['Name']"
   ]
  },
  {
   "cell_type": "code",
   "execution_count": 64,
   "id": "6ec45ced",
   "metadata": {},
   "outputs": [
    {
     "data": {
      "text/plain": [
       "'Information Technology'"
      ]
     },
     "execution_count": 64,
     "metadata": {},
     "output_type": "execute_result"
    }
   ],
   "source": [
    "dic['Sub']"
   ]
  },
  {
   "cell_type": "code",
   "execution_count": 65,
   "id": "46416978",
   "metadata": {},
   "outputs": [
    {
     "data": {
      "text/plain": [
       "{'Brand': 'BMW', 'Model': 2021, 'Speed': '2000 Km/Hr', 'AI': 'Yes'}"
      ]
     },
     "execution_count": 65,
     "metadata": {},
     "output_type": "execute_result"
    }
   ],
   "source": [
    "dicc = {\n",
    "    'Brand' : \"BMW\",\n",
    "    'Model' : 2021,\n",
    "    'Speed' : \"2000 Km/Hr\",\n",
    "    'AI' : \"Yes\"\n",
    "}\n",
    "\n",
    "dicc"
   ]
  },
  {
   "cell_type": "code",
   "execution_count": 66,
   "id": "3395aaeb",
   "metadata": {},
   "outputs": [
    {
     "data": {
      "text/plain": [
       "2021"
      ]
     },
     "execution_count": 66,
     "metadata": {},
     "output_type": "execute_result"
    }
   ],
   "source": [
    "# Access Dictionary Item\n",
    "dicc['Model']"
   ]
  },
  {
   "cell_type": "code",
   "execution_count": 67,
   "id": "1610268f",
   "metadata": {},
   "outputs": [
    {
     "ename": "KeyError",
     "evalue": "'Price'",
     "output_type": "error",
     "traceback": [
      "\u001b[1;31m---------------------------------------------------------------------------\u001b[0m",
      "\u001b[1;31mKeyError\u001b[0m                                  Traceback (most recent call last)",
      "\u001b[1;32m~\\AppData\\Local\\Temp\\ipykernel_12132\\2632369143.py\u001b[0m in \u001b[0;36m<module>\u001b[1;34m\u001b[0m\n\u001b[1;32m----> 1\u001b[1;33m \u001b[0mdicc\u001b[0m\u001b[1;33m[\u001b[0m\u001b[1;34m'Price'\u001b[0m\u001b[1;33m]\u001b[0m\u001b[1;33m\u001b[0m\u001b[1;33m\u001b[0m\u001b[0m\n\u001b[0m",
      "\u001b[1;31mKeyError\u001b[0m: 'Price'"
     ]
    }
   ],
   "source": [
    "dicc['Price']"
   ]
  },
  {
   "cell_type": "code",
   "execution_count": 68,
   "id": "3203a4d6",
   "metadata": {},
   "outputs": [
    {
     "name": "stdout",
     "output_type": "stream",
     "text": [
      "dict_keys(['Brand', 'Model', 'Speed', 'AI'])\n"
     ]
    }
   ],
   "source": [
    "x = dicc.keys()\n",
    "\n",
    "print(x)"
   ]
  },
  {
   "cell_type": "code",
   "execution_count": 69,
   "id": "45b74a0b",
   "metadata": {},
   "outputs": [
    {
     "name": "stdout",
     "output_type": "stream",
     "text": [
      "dict_keys(['Brand', 'Model', 'Speed', 'AI', 'Price'])\n"
     ]
    }
   ],
   "source": [
    "# Add Dictionary Key Values\n",
    "\n",
    "dicc['Price'] = \"$240,000\"\n",
    "\n",
    "print(x)"
   ]
  },
  {
   "cell_type": "code",
   "execution_count": 70,
   "id": "b09e4ea6",
   "metadata": {},
   "outputs": [
    {
     "data": {
      "text/plain": [
       "{'Brand': 'BMW',\n",
       " 'Model': 2021,\n",
       " 'Speed': '2000 Km/Hr',\n",
       " 'AI': 'Yes',\n",
       " 'Price': '$240,000'}"
      ]
     },
     "execution_count": 70,
     "metadata": {},
     "output_type": "execute_result"
    }
   ],
   "source": [
    "dicc"
   ]
  },
  {
   "cell_type": "code",
   "execution_count": 71,
   "id": "1e12ca74",
   "metadata": {},
   "outputs": [
    {
     "name": "stdout",
     "output_type": "stream",
     "text": [
      "dict_values(['BMW', 2021, '2000 Km/Hr', 'Yes', '$240,000'])\n"
     ]
    }
   ],
   "source": [
    "y = dicc.values()\n",
    "\n",
    "print(y)"
   ]
  },
  {
   "cell_type": "code",
   "execution_count": 72,
   "id": "aff1b42e",
   "metadata": {},
   "outputs": [
    {
     "name": "stdout",
     "output_type": "stream",
     "text": [
      "Brand\n",
      "Model\n",
      "Speed\n",
      "AI\n",
      "Price\n"
     ]
    }
   ],
   "source": [
    "for x1 in x:\n",
    "    print(f\"{x1}\")"
   ]
  },
  {
   "cell_type": "code",
   "execution_count": 73,
   "id": "7bbdf376",
   "metadata": {},
   "outputs": [
    {
     "data": {
      "text/plain": [
       "{'Brand': 'BMW',\n",
       " 'Model': 2021,\n",
       " 'Speed': '2000 Km/Hr',\n",
       " 'AI': 'Yes',\n",
       " 'Price': 2000000}"
      ]
     },
     "execution_count": 73,
     "metadata": {},
     "output_type": "execute_result"
    }
   ],
   "source": [
    "# Change Dic Item\n",
    "\n",
    "dicc.update({'Price': 2000000})\n",
    "\n",
    "dicc"
   ]
  },
  {
   "cell_type": "code",
   "execution_count": 74,
   "id": "78b9b5ee",
   "metadata": {},
   "outputs": [
    {
     "data": {
      "text/plain": [
       "{'Brand': 'BMW', 'Model': 2021, 'Speed': '2000 Km/Hr', 'Price': 2000000}"
      ]
     },
     "execution_count": 74,
     "metadata": {},
     "output_type": "execute_result"
    }
   ],
   "source": [
    "# Remove item\n",
    "\n",
    "dicc.pop('AI')\n",
    "\n",
    "dicc"
   ]
  },
  {
   "cell_type": "code",
   "execution_count": 75,
   "id": "e3ef44e8",
   "metadata": {},
   "outputs": [
    {
     "data": {
      "text/plain": [
       "{'Brand': 'BMW', 'Model': 2021, 'Speed': '2000 Km/Hr'}"
      ]
     },
     "execution_count": 75,
     "metadata": {},
     "output_type": "execute_result"
    }
   ],
   "source": [
    "dicc.popitem()\n",
    "\n",
    "dicc"
   ]
  },
  {
   "cell_type": "code",
   "execution_count": 76,
   "id": "10b1493a",
   "metadata": {},
   "outputs": [
    {
     "name": "stdout",
     "output_type": "stream",
     "text": [
      "{'Brand': 'BMW', 'Model': 2021, 'Speed': '2000 Km/Hr'}\n"
     ]
    }
   ],
   "source": [
    "print(dicc)"
   ]
  },
  {
   "cell_type": "code",
   "execution_count": 77,
   "id": "29533086",
   "metadata": {},
   "outputs": [
    {
     "name": "stdout",
     "output_type": "stream",
     "text": [
      "Brand\n",
      "Model\n",
      "Speed\n"
     ]
    }
   ],
   "source": [
    "for x in dicc:\n",
    "    print(x)"
   ]
  },
  {
   "cell_type": "code",
   "execution_count": 78,
   "id": "7fcd37ed",
   "metadata": {},
   "outputs": [
    {
     "name": "stdout",
     "output_type": "stream",
     "text": [
      "BMW\n",
      "2021\n",
      "2000 Km/Hr\n"
     ]
    }
   ],
   "source": [
    "for y in dicc.values():\n",
    "    print(y)"
   ]
  },
  {
   "cell_type": "code",
   "execution_count": 79,
   "id": "6f6bd760",
   "metadata": {},
   "outputs": [
    {
     "name": "stdout",
     "output_type": "stream",
     "text": [
      "Brand\n",
      "Model\n",
      "Speed\n"
     ]
    }
   ],
   "source": [
    "for xy in dicc.keys():\n",
    "    print(xy)"
   ]
  },
  {
   "cell_type": "code",
   "execution_count": 80,
   "id": "6a20f02b",
   "metadata": {},
   "outputs": [
    {
     "name": "stdout",
     "output_type": "stream",
     "text": [
      "Brand - BMW\n",
      "Model - 2021\n",
      "Speed - 2000 Km/Hr\n"
     ]
    }
   ],
   "source": [
    "for x, y in dicc.items():\n",
    "    print(f\"{x} - {y}\")"
   ]
  },
  {
   "cell_type": "code",
   "execution_count": 81,
   "id": "e20b715d",
   "metadata": {},
   "outputs": [
    {
     "name": "stdout",
     "output_type": "stream",
     "text": [
      "{'Brand': 'BMW', 'Model': 2021, 'Speed': '2000 Km/Hr'}\n"
     ]
    }
   ],
   "source": [
    "newd = dicc.copy()\n",
    "\n",
    "print(newd)"
   ]
  },
  {
   "cell_type": "code",
   "execution_count": 82,
   "id": "00735acf",
   "metadata": {},
   "outputs": [
    {
     "name": "stdout",
     "output_type": "stream",
     "text": [
      "{'Brand': 'BMW', 'Model': 2021, 'Speed': '2000 Km/Hr'}\n"
     ]
    }
   ],
   "source": [
    "mydic = dict(newd)\n",
    "\n",
    "print(mydic)"
   ]
  },
  {
   "cell_type": "code",
   "execution_count": 83,
   "id": "ad48bc3a",
   "metadata": {},
   "outputs": [
    {
     "name": "stdout",
     "output_type": "stream",
     "text": [
      "{'MacBook': {'Name': 'MacBook Air', 'Model': 2021, 'Price': 1349}, 'iPhone': {'Name': 'iPhone 15 Pro', 'Model': 2023, 'Price': 1750}, 'AirPod': {'Name': 'AirPod', 'Model': 2022, 'Price': 249}}\n"
     ]
    }
   ],
   "source": [
    "# Nested Dictionary\n",
    "\n",
    "apple = {\n",
    "    'MacBook': {\n",
    "        'Name': 'MacBook Air',\n",
    "        'Model': 2021,\n",
    "        'Price': 1349\n",
    "    },\n",
    "    'iPhone': {\n",
    "        'Name': 'iPhone 15 Pro',\n",
    "        'Model': 2023,\n",
    "        'Price': 1750\n",
    "    },\n",
    "    'AirPod': {\n",
    "        'Name': 'AirPod',\n",
    "        'Model': 2022,\n",
    "        'Price': 249\n",
    "    }\n",
    "}\n",
    "\n",
    "print(apple)"
   ]
  },
  {
   "cell_type": "code",
   "execution_count": 84,
   "id": "df848075",
   "metadata": {},
   "outputs": [
    {
     "name": "stdout",
     "output_type": "stream",
     "text": [
      "{'Name': 'iPhone 15 Pro', 'Model': 2023, 'Price': 1750}\n"
     ]
    }
   ],
   "source": [
    "print(apple['iPhone'])"
   ]
  },
  {
   "cell_type": "code",
   "execution_count": 85,
   "id": "b586fc56",
   "metadata": {},
   "outputs": [
    {
     "name": "stdout",
     "output_type": "stream",
     "text": [
      "1750\n"
     ]
    }
   ],
   "source": [
    "print(apple['iPhone']['Price'])"
   ]
  },
  {
   "cell_type": "code",
   "execution_count": 86,
   "id": "f7e9bfcc",
   "metadata": {},
   "outputs": [
    {
     "name": "stdout",
     "output_type": "stream",
     "text": [
      "MacBook Air\n"
     ]
    }
   ],
   "source": [
    "print(apple['MacBook']['Name'])"
   ]
  },
  {
   "cell_type": "code",
   "execution_count": 87,
   "id": "fa413e2c",
   "metadata": {},
   "outputs": [
    {
     "name": "stdout",
     "output_type": "stream",
     "text": [
      "2022\n"
     ]
    }
   ],
   "source": [
    "print(apple['AirPod']['Model'])"
   ]
  },
  {
   "cell_type": "code",
   "execution_count": 88,
   "id": "0b5271b6",
   "metadata": {},
   "outputs": [
    {
     "name": "stdout",
     "output_type": "stream",
     "text": [
      "{'Name': 'iPhone 14 Pro', 'Color': 'Light Blue', 'Model': 2022}\n"
     ]
    }
   ],
   "source": [
    "# Nested Dictionary\n",
    "\n",
    "iPhone = {\n",
    "    'Name': 'iPhone 13 Pro',\n",
    "    'Color': 'Space Grey',\n",
    "    'Model': 2021\n",
    "}\n",
    "\n",
    "iPhone2 = {\n",
    "    'Name': 'iPhone 14 Pro',\n",
    "    'Color': 'Light Blue',\n",
    "    'Model': 2022\n",
    "}\n",
    "\n",
    "iPhone3 = {\n",
    "    'Name': 'iPhone 15 Pro',\n",
    "    'Color': 'White',\n",
    "    'Model': 2023\n",
    "}\n",
    "\n",
    "apple = {\n",
    "    'app1' : iPhone,\n",
    "    'app2' : iPhone2,\n",
    "    'app3' : iPhone3\n",
    "}\n",
    "\n",
    "print(apple['app2'])"
   ]
  },
  {
   "cell_type": "code",
   "execution_count": 89,
   "id": "4fc4b4db",
   "metadata": {},
   "outputs": [
    {
     "name": "stdout",
     "output_type": "stream",
     "text": [
      "{'app1': {'Name': 'iPhone 13 Pro', 'Color': 'Space Grey', 'Model': 2021}, 'app2': {'Name': 'iPhone 14 Pro', 'Color': 'Light Blue', 'Model': 2022}, 'app3': {'Name': 'iPhone 15 Pro', 'Color': 'White', 'Model': 2023}}\n"
     ]
    }
   ],
   "source": [
    "print(apple)"
   ]
  },
  {
   "cell_type": "code",
   "execution_count": 90,
   "id": "abaaeaf6",
   "metadata": {},
   "outputs": [
    {
     "name": "stdout",
     "output_type": "stream",
     "text": [
      "iPhone 15 Pro\n"
     ]
    }
   ],
   "source": [
    "print(apple[\"app3\"][\"Name\"])"
   ]
  },
  {
   "cell_type": "code",
   "execution_count": 91,
   "id": "1f0b0e6a",
   "metadata": {},
   "outputs": [
    {
     "name": "stdout",
     "output_type": "stream",
     "text": [
      "Light Blue\n"
     ]
    }
   ],
   "source": [
    "print(apple[\"app2\"][\"Color\"])"
   ]
  },
  {
   "cell_type": "code",
   "execution_count": 92,
   "id": "2ac3cce4",
   "metadata": {},
   "outputs": [
    {
     "name": "stdout",
     "output_type": "stream",
     "text": [
      "{}\n"
     ]
    }
   ],
   "source": [
    "# Removes all item dicc\n",
    "\n",
    "apple.clear()\n",
    "\n",
    "print(apple)"
   ]
  },
  {
   "cell_type": "markdown",
   "id": "5661296a",
   "metadata": {},
   "source": [
    "### Dictionary Method\n",
    "\n",
    "**Method Description** <br>\n",
    "clear()\tRemoves all the elements from the dictionary <br>\n",
    "copy()\tReturns a copy of the dictionary <br>\n",
    "fromkeys()\tReturns a dictionary with the specified keys and value <br>\n",
    "get()\tReturns the value of the specified key <br>\n",
    "items()\tReturns a list containing a tuple for each key value pair <br>\n",
    "keys()\tReturns a list containing the dictionary's keys <br>\n",
    "pop()\tRemoves the element with the specified key <br>\n",
    "popitem()\tRemoves the last inserted key-value pair <br>\n",
    "setdefault()\tReturns the value of the specified key. If the key does not exist: insert the key, with the specified value <br>\n",
    "update()\tUpdates the dictionary with the specified key-value pairs <br>\n",
    "values()\tReturns a list of all the values in the dictionary <br>"
   ]
  },
  {
   "cell_type": "markdown",
   "id": "cb86936d",
   "metadata": {},
   "source": [
    "## Python Sets"
   ]
  },
  {
   "cell_type": "code",
   "execution_count": 93,
   "id": "793d1764",
   "metadata": {},
   "outputs": [
    {
     "name": "stdout",
     "output_type": "stream",
     "text": [
      "{'SEO', 'Apple', 'Google', 'IBM'}\n"
     ]
    }
   ],
   "source": [
    "# Unordered Unchangeable Duplicate Values Not Allowed\n",
    "\n",
    "tset = {'Apple', \"IBM\", \"Google\", 'SEO', 'IBM'}\n",
    "\n",
    "print(tset)"
   ]
  },
  {
   "cell_type": "code",
   "execution_count": 94,
   "id": "416106d2",
   "metadata": {},
   "outputs": [
    {
     "data": {
      "text/plain": [
       "{3, 'Sohel', True}"
      ]
     },
     "execution_count": 94,
     "metadata": {},
     "output_type": "execute_result"
    }
   ],
   "source": [
    "sett = {'Sohel', True, 1, 3}\n",
    "\n",
    "sett"
   ]
  },
  {
   "cell_type": "code",
   "execution_count": 95,
   "id": "1fa5e293",
   "metadata": {},
   "outputs": [
    {
     "name": "stdout",
     "output_type": "stream",
     "text": [
      "3\n"
     ]
    }
   ],
   "source": [
    "print(len(sett))"
   ]
  },
  {
   "cell_type": "code",
   "execution_count": 96,
   "id": "a89c683f",
   "metadata": {},
   "outputs": [
    {
     "name": "stdout",
     "output_type": "stream",
     "text": [
      "cherry\n",
      "apple\n",
      "banana\n",
      "strawberry\n"
     ]
    }
   ],
   "source": [
    "sett = {'apple', 'banana', 'strawberry', 'cherry'}\n",
    "\n",
    "for x in sett:\n",
    "    print(x)"
   ]
  },
  {
   "cell_type": "code",
   "execution_count": 97,
   "id": "d510b3b5",
   "metadata": {},
   "outputs": [
    {
     "name": "stdout",
     "output_type": "stream",
     "text": [
      "True\n"
     ]
    }
   ],
   "source": [
    "print('apple' in sett)"
   ]
  },
  {
   "cell_type": "code",
   "execution_count": 98,
   "id": "fb77031f",
   "metadata": {},
   "outputs": [
    {
     "name": "stdout",
     "output_type": "stream",
     "text": [
      "False\n"
     ]
    }
   ],
   "source": [
    "print('Data' in sett)"
   ]
  },
  {
   "cell_type": "code",
   "execution_count": 99,
   "id": "0905a46a",
   "metadata": {},
   "outputs": [
    {
     "data": {
      "text/plain": [
       "{'Orange', 'apple', 'banana', 'cherry', 'strawberry'}"
      ]
     },
     "execution_count": 99,
     "metadata": {},
     "output_type": "execute_result"
    }
   ],
   "source": [
    "sett.add('Orange')\n",
    "\n",
    "sett"
   ]
  },
  {
   "cell_type": "code",
   "execution_count": 100,
   "id": "26015367",
   "metadata": {},
   "outputs": [
    {
     "name": "stdout",
     "output_type": "stream",
     "text": [
      "{'SEO', 'Data Science', 'Django', 'Web Dev', 'React', 'FaceBook Ads', 'Google Ads'}\n",
      "{'Web Dev', 'Django', 'React', 'Data Science'}\n"
     ]
    }
   ],
   "source": [
    "set1 = {'SEO', 'Google Ads', 'FaceBook Ads'}\n",
    "set2 = {'Data Science', 'Web Dev', 'Django', 'React'}\n",
    "\n",
    "set1.update(set2)\n",
    "\n",
    "print(set1)\n",
    "print(set2)"
   ]
  },
  {
   "cell_type": "code",
   "execution_count": 101,
   "id": "260a5515",
   "metadata": {},
   "outputs": [
    {
     "name": "stdout",
     "output_type": "stream",
     "text": [
      "{'SEO', 'Data Science', 'Django', 'React', 'FaceBook Ads', 'Google Ads'}\n"
     ]
    }
   ],
   "source": [
    "#  Remove Item\n",
    "\n",
    "set1.remove('Web Dev')\n",
    "\n",
    "print(set1)"
   ]
  },
  {
   "cell_type": "code",
   "execution_count": 102,
   "id": "a2e68fc7",
   "metadata": {},
   "outputs": [
    {
     "name": "stdout",
     "output_type": "stream",
     "text": [
      "{'SEO', 'Data Science', 'Django', 'React', 'Google Ads'}\n"
     ]
    }
   ],
   "source": [
    "set1.discard('FaceBook Ads')\n",
    "\n",
    "print(set1)"
   ]
  },
  {
   "cell_type": "code",
   "execution_count": 103,
   "id": "afe4a91b",
   "metadata": {},
   "outputs": [
    {
     "name": "stdout",
     "output_type": "stream",
     "text": [
      "{'Data Science', 'Django', 'React', 'Google Ads'}\n"
     ]
    }
   ],
   "source": [
    "# Random Remove\n",
    "\n",
    "set1.pop()\n",
    "\n",
    "print(set1)"
   ]
  },
  {
   "cell_type": "code",
   "execution_count": 104,
   "id": "2aa8f122",
   "metadata": {},
   "outputs": [
    {
     "name": "stdout",
     "output_type": "stream",
     "text": [
      "{'Django', 'React', 'Google Ads'}\n"
     ]
    }
   ],
   "source": [
    "set1.pop()\n",
    "\n",
    "print(set1)"
   ]
  },
  {
   "cell_type": "code",
   "execution_count": 105,
   "id": "7bcd11a4",
   "metadata": {},
   "outputs": [
    {
     "name": "stdout",
     "output_type": "stream",
     "text": [
      "set()\n"
     ]
    }
   ],
   "source": [
    "# Empties the set\n",
    "\n",
    "set1.clear()\n",
    "\n",
    "print(set1)"
   ]
  },
  {
   "cell_type": "code",
   "execution_count": 106,
   "id": "c71cd96d",
   "metadata": {},
   "outputs": [
    {
     "ename": "NameError",
     "evalue": "name 'set1' is not defined",
     "output_type": "error",
     "traceback": [
      "\u001b[1;31m---------------------------------------------------------------------------\u001b[0m",
      "\u001b[1;31mNameError\u001b[0m                                 Traceback (most recent call last)",
      "\u001b[1;32m~\\AppData\\Local\\Temp\\ipykernel_12132\\1353846885.py\u001b[0m in \u001b[0;36m<module>\u001b[1;34m\u001b[0m\n\u001b[0;32m      3\u001b[0m \u001b[1;32mdel\u001b[0m \u001b[0mset1\u001b[0m\u001b[1;33m\u001b[0m\u001b[1;33m\u001b[0m\u001b[0m\n\u001b[0;32m      4\u001b[0m \u001b[1;33m\u001b[0m\u001b[0m\n\u001b[1;32m----> 5\u001b[1;33m \u001b[0mprint\u001b[0m\u001b[1;33m(\u001b[0m\u001b[0mset1\u001b[0m\u001b[1;33m)\u001b[0m\u001b[1;33m\u001b[0m\u001b[1;33m\u001b[0m\u001b[0m\n\u001b[0m",
      "\u001b[1;31mNameError\u001b[0m: name 'set1' is not defined"
     ]
    }
   ],
   "source": [
    "# del will delete set completely\n",
    "\n",
    "del set1\n",
    "\n",
    "print(set1)"
   ]
  },
  {
   "cell_type": "code",
   "execution_count": 107,
   "id": "a39c83ca",
   "metadata": {},
   "outputs": [
    {
     "name": "stdout",
     "output_type": "stream",
     "text": [
      "Web Dev\n",
      "Django\n",
      "React\n",
      "Data Science\n"
     ]
    }
   ],
   "source": [
    "for x in set2:\n",
    "    print(x)"
   ]
  },
  {
   "cell_type": "code",
   "execution_count": 108,
   "id": "00e29126",
   "metadata": {},
   "outputs": [
    {
     "name": "stdout",
     "output_type": "stream",
     "text": [
      "{'React', 'Django', 'c', 'b', 'Web Dev', 'a', 'Data Science'}\n"
     ]
    }
   ],
   "source": [
    "set1 = {\"a\", \"b\" , \"c\"}\n",
    "\n",
    "set3 = set1.union(set2)\n",
    "print(set3)"
   ]
  },
  {
   "cell_type": "code",
   "execution_count": 109,
   "id": "4d4344a2",
   "metadata": {},
   "outputs": [
    {
     "name": "stdout",
     "output_type": "stream",
     "text": [
      "{'React', 'Django', 'c', 'b', 'Web Dev', 'a', 'Data Science'}\n"
     ]
    }
   ],
   "source": [
    "set1.update(set2)\n",
    "\n",
    "print(set1)"
   ]
  },
  {
   "cell_type": "markdown",
   "id": "21704ac8",
   "metadata": {},
   "source": [
    "**Method**\tDescription <br>\n",
    "add()\tAdds an element to the set <br>\n",
    "clear()\tRemoves all the elements from the set <br>\n",
    "copy()\tReturns a copy of the set <br>\n",
    "difference()\tReturns a set containing the difference between two or more sets <br>\n",
    "difference_update()\tRemoves the items in this set that are also included in another, specified set <br>\n",
    "discard()\tRemove the specified item <br>\n",
    "intersection()\tReturns a set, that is the intersection of two other sets <br>\n",
    "intersection_update()\tRemoves the items in this set that are not present in other, specified set(s) <br>\n",
    "isdisjoint()\tReturns whether two sets have a intersection or not <br>\n",
    "issubset()\tReturns whether another set contains this set or not <br>\n",
    "issuperset()\tReturns whether this set contains another set or not <br>\n",
    "pop()\tRemoves an element from the set <br>\n",
    "remove()\tRemoves the specified element <br>\n",
    "symmetric_difference()\tReturns a set with the symmetric differences of two sets <br>\n",
    "symmetric_difference_update()\tinserts the symmetric differences from this set and another <br>\n",
    "union()\tReturn a set containing the union of sets <br>\n",
    "update()\tUpdate the set with the union of this set and others <br>"
   ]
  }
 ],
 "metadata": {
  "kernelspec": {
   "display_name": "Python 3 (ipykernel)",
   "language": "python",
   "name": "python3"
  },
  "language_info": {
   "codemirror_mode": {
    "name": "ipython",
    "version": 3
   },
   "file_extension": ".py",
   "mimetype": "text/x-python",
   "name": "python",
   "nbconvert_exporter": "python",
   "pygments_lexer": "ipython3",
   "version": "3.9.13"
  }
 },
 "nbformat": 4,
 "nbformat_minor": 5
}
