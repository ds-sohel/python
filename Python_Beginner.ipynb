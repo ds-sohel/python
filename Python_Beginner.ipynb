{
 "cells": [
  {
   "cell_type": "markdown",
   "id": "1817c084",
   "metadata": {},
   "source": [
    "# Python Foundation"
   ]
  },
  {
   "cell_type": "code",
   "execution_count": 1,
   "id": "b41d01ee",
   "metadata": {},
   "outputs": [
    {
     "name": "stdout",
     "output_type": "stream",
     "text": [
      "54\n",
      "Sohel\n",
      "MD SOHEL\n"
     ]
    }
   ],
   "source": [
    "x = 54\n",
    "y = \"Sohel\"\n",
    "z = 'MD SOHEL'\n",
    "\n",
    "print(x)\n",
    "print(y)\n",
    "print(z)"
   ]
  },
  {
   "cell_type": "code",
   "execution_count": 2,
   "id": "ccfed0db",
   "metadata": {},
   "outputs": [
    {
     "name": "stdout",
     "output_type": "stream",
     "text": [
      "Variable Name\n",
      "Variable Name Case Sensitive\n"
     ]
    }
   ],
   "source": [
    "myvar = \"Variable Name\"\n",
    "MyVar = 'Variable Name Case Sensitive'\n",
    "\n",
    "print(myvar)\n",
    "print(MyVar)"
   ]
  },
  {
   "cell_type": "code",
   "execution_count": 3,
   "id": "a74b2cd9",
   "metadata": {},
   "outputs": [
    {
     "name": "stdout",
     "output_type": "stream",
     "text": [
      "eData\n",
      "Sohel Tech\n",
      "101\n",
      "Multiple Variable Assign\n"
     ]
    }
   ],
   "source": [
    "# Multiple Variable Assign\n",
    "\n",
    "m, n, o, p = 'eData', \"Sohel Tech\", 101, 'Multiple Variable Assign'\n",
    "\n",
    "print(m)\n",
    "print(n)\n",
    "print(o)\n",
    "print(p)"
   ]
  },
  {
   "cell_type": "code",
   "execution_count": 4,
   "id": "016fbf40",
   "metadata": {},
   "outputs": [
    {
     "name": "stdout",
     "output_type": "stream",
     "text": [
      "Learning Python for Data Science\n",
      "Learning Python For Data Science\n"
     ]
    }
   ],
   "source": [
    "a = 'Learning Python for Data Science'\n",
    "b = \"Learning \"\n",
    "c = \"Python\"\n",
    "d = ' For'\n",
    "e = \" Data Science\"\n",
    "\n",
    "print(a)\n",
    "print(b + c + d + e)"
   ]
  },
  {
   "cell_type": "code",
   "execution_count": 5,
   "id": "294ffc1b",
   "metadata": {},
   "outputs": [
    {
     "name": "stdout",
     "output_type": "stream",
     "text": [
      "Learning Python For Data Science & Analytics\n"
     ]
    }
   ],
   "source": [
    "print(b + c + d + e + \" & Analytics\")"
   ]
  },
  {
   "cell_type": "markdown",
   "id": "9f7f1e9b",
   "metadata": {},
   "source": [
    "**Python Data Types**"
   ]
  },
  {
   "cell_type": "code",
   "execution_count": 6,
   "id": "4d09890a",
   "metadata": {},
   "outputs": [
    {
     "name": "stdout",
     "output_type": "stream",
     "text": [
      "<class 'str'>\n"
     ]
    }
   ],
   "source": [
    "xx = 'eData Set'\n",
    "print(type(xx))"
   ]
  },
  {
   "cell_type": "code",
   "execution_count": 7,
   "id": "cc22b3c5",
   "metadata": {},
   "outputs": [
    {
     "name": "stdout",
     "output_type": "stream",
     "text": [
      "<class 'int'>\n"
     ]
    }
   ],
   "source": [
    "x = 25\n",
    "\n",
    "print(type(x))"
   ]
  },
  {
   "cell_type": "code",
   "execution_count": 8,
   "id": "f6359268",
   "metadata": {},
   "outputs": [
    {
     "name": "stdout",
     "output_type": "stream",
     "text": [
      "<class 'float'>\n"
     ]
    }
   ],
   "source": [
    "x = 10.08\n",
    "\n",
    "print(type(x))"
   ]
  },
  {
   "cell_type": "code",
   "execution_count": 9,
   "id": "1f2406f8",
   "metadata": {},
   "outputs": [
    {
     "name": "stdout",
     "output_type": "stream",
     "text": [
      "<class 'complex'>\n"
     ]
    }
   ],
   "source": [
    "x = 14j\n",
    "\n",
    "print(type(x))"
   ]
  },
  {
   "cell_type": "code",
   "execution_count": 10,
   "id": "8992b1cd",
   "metadata": {},
   "outputs": [
    {
     "name": "stdout",
     "output_type": "stream",
     "text": [
      "<class 'list'>\n"
     ]
    }
   ],
   "source": [
    "x  = [10, 20, 30]\n",
    "\n",
    "print(type(x))"
   ]
  },
  {
   "cell_type": "code",
   "execution_count": 11,
   "id": "1ec99e9a",
   "metadata": {},
   "outputs": [
    {
     "name": "stdout",
     "output_type": "stream",
     "text": [
      "<class 'tuple'>\n"
     ]
    }
   ],
   "source": [
    "x = ('Apple', 'Google', \"Tesla\")\n",
    "\n",
    "print(type(x))"
   ]
  },
  {
   "cell_type": "code",
   "execution_count": 12,
   "id": "4db746df",
   "metadata": {},
   "outputs": [
    {
     "name": "stdout",
     "output_type": "stream",
     "text": [
      "<class 'dict'>\n"
     ]
    }
   ],
   "source": [
    "x = {'Name': 'SOHEL', 'Profession': \"Data Science\", 'Exp': '3 Years'}\n",
    "\n",
    "print(type(x))"
   ]
  },
  {
   "cell_type": "code",
   "execution_count": 13,
   "id": "82e54f2e",
   "metadata": {},
   "outputs": [
    {
     "name": "stdout",
     "output_type": "stream",
     "text": [
      "<class 'set'>\n"
     ]
    }
   ],
   "source": [
    "x = {'Microsoft', 'IBM', 'Dell', 'SQL'}\n",
    "\n",
    "print(type(x))"
   ]
  },
  {
   "cell_type": "code",
   "execution_count": 14,
   "id": "aec00ad5",
   "metadata": {},
   "outputs": [
    {
     "name": "stdout",
     "output_type": "stream",
     "text": [
      "<class 'frozenset'>\n"
     ]
    }
   ],
   "source": [
    "x = frozenset({'Microsoft', 'IBM', 'Dell', 'SQL'})\n",
    "\n",
    "print(type(x))"
   ]
  },
  {
   "cell_type": "code",
   "execution_count": 15,
   "id": "a620b198",
   "metadata": {},
   "outputs": [
    {
     "name": "stdout",
     "output_type": "stream",
     "text": [
      "<class 'bool'>\n",
      "<class 'bool'>\n"
     ]
    }
   ],
   "source": [
    "x = True\n",
    "y = False\n",
    "\n",
    "print(type(x))\n",
    "print(type(y))"
   ]
  },
  {
   "cell_type": "code",
   "execution_count": 16,
   "id": "2bbbfe5c",
   "metadata": {},
   "outputs": [
    {
     "name": "stdout",
     "output_type": "stream",
     "text": [
      "<class 'bytes'>\n"
     ]
    }
   ],
   "source": [
    "x = b\"Hello Py\"\n",
    "\n",
    "print(type(x))"
   ]
  },
  {
   "cell_type": "code",
   "execution_count": 17,
   "id": "6d560c9e",
   "metadata": {},
   "outputs": [
    {
     "name": "stdout",
     "output_type": "stream",
     "text": [
      "range(0, 5)\n",
      "<class 'range'>\n"
     ]
    }
   ],
   "source": [
    "x = range(5)\n",
    "\n",
    "print(x)\n",
    "\n",
    "print(type(x))"
   ]
  },
  {
   "cell_type": "code",
   "execution_count": 18,
   "id": "68a83b39",
   "metadata": {},
   "outputs": [
    {
     "name": "stdout",
     "output_type": "stream",
     "text": [
      "bytearray(b'\\x00\\x00\\x00')\n",
      "<class 'bytearray'>\n"
     ]
    }
   ],
   "source": [
    "x = bytearray(3)\n",
    "\n",
    "print(x)\n",
    "\n",
    "print(type(x))"
   ]
  },
  {
   "cell_type": "code",
   "execution_count": 19,
   "id": "c7297cd2",
   "metadata": {},
   "outputs": [
    {
     "name": "stdout",
     "output_type": "stream",
     "text": [
      "<memory at 0x000001D3B16D0AC0>\n",
      "<class 'memoryview'>\n"
     ]
    }
   ],
   "source": [
    "x = memoryview(bytes(4))\n",
    "\n",
    "print(x)\n",
    "\n",
    "print(type(x))"
   ]
  },
  {
   "cell_type": "code",
   "execution_count": 20,
   "id": "3d39ad3d",
   "metadata": {},
   "outputs": [
    {
     "name": "stdout",
     "output_type": "stream",
     "text": [
      "None\n",
      "<class 'NoneType'>\n"
     ]
    }
   ],
   "source": [
    "x = None\n",
    "\n",
    "print(x)\n",
    "\n",
    "print(type(x))"
   ]
  },
  {
   "cell_type": "code",
   "execution_count": 21,
   "id": "4b7a5941",
   "metadata": {},
   "outputs": [
    {
     "name": "stdout",
     "output_type": "stream",
     "text": [
      "20\n",
      "5\n",
      "3\n",
      "<class 'int'>\n",
      "<class 'int'>\n",
      "<class 'int'>\n"
     ]
    }
   ],
   "source": [
    "# Python Casting\n",
    "# Specify a Variable Type\n",
    "\n",
    "x = int(20)\n",
    "y = int(5.6)\n",
    "z = int('3')\n",
    "\n",
    "print(x)\n",
    "print(y)\n",
    "print(z)\n",
    "\n",
    "print(type(x))\n",
    "print(type(y))\n",
    "print(type(z))"
   ]
  },
  {
   "cell_type": "code",
   "execution_count": 22,
   "id": "ca994d4c",
   "metadata": {},
   "outputs": [
    {
     "name": "stdout",
     "output_type": "stream",
     "text": [
      "10.0\n",
      "6.5\n",
      "8.0\n",
      "<class 'float'>\n",
      "<class 'float'>\n",
      "<class 'float'>\n"
     ]
    }
   ],
   "source": [
    "x = float(10)\n",
    "y = float(6.5)\n",
    "z = float(\"8.0\")\n",
    "\n",
    "print(x)\n",
    "print(y)\n",
    "print(z)\n",
    "\n",
    "print(type(x))\n",
    "print(type(y))\n",
    "print(type(z))"
   ]
  },
  {
   "cell_type": "code",
   "execution_count": 23,
   "id": "a4f5dcb9",
   "metadata": {},
   "outputs": [
    {
     "name": "stdout",
     "output_type": "stream",
     "text": [
      "H1B\n",
      "100\n",
      "4.3\n",
      "<class 'str'>\n",
      "<class 'str'>\n",
      "<class 'str'>\n"
     ]
    }
   ],
   "source": [
    "x = str('H1B')\n",
    "y = str(100)\n",
    "z = str(4.3)\n",
    "\n",
    "print(x)\n",
    "print(y)\n",
    "print(z)\n",
    "\n",
    "print(type(x))\n",
    "print(type(y))\n",
    "print(type(z))"
   ]
  },
  {
   "cell_type": "markdown",
   "id": "57db00d0",
   "metadata": {},
   "source": [
    "## Python String"
   ]
  },
  {
   "cell_type": "code",
   "execution_count": 24,
   "id": "03ff016d",
   "metadata": {},
   "outputs": [
    {
     "name": "stdout",
     "output_type": "stream",
     "text": [
      "I write string message in Python Jupyter Notebook on 7/4/2023 written by SOHEL!\n"
     ]
    }
   ],
   "source": [
    "message = \"I write string message in Python Jupyter Notebook on 7/4/2023 written by SOHEL!\"\n",
    "\n",
    "print(message)"
   ]
  },
  {
   "cell_type": "code",
   "execution_count": 25,
   "id": "e4402dcb",
   "metadata": {},
   "outputs": [
    {
     "name": "stdout",
     "output_type": "stream",
     "text": [
      "Hi, I'm SOHEL. I have skills on Python, SQL, Power BI, Excell!\n"
     ]
    }
   ],
   "source": [
    "name = \"SOHEL\"\n",
    "skills = 'Python, SQL, Power BI, Excell!'\n",
    "\n",
    "print(f\"Hi, I'm {name}. I have skills on {skills}\")"
   ]
  },
  {
   "cell_type": "code",
   "execution_count": 26,
   "id": "b3ee7e7c",
   "metadata": {},
   "outputs": [
    {
     "name": "stdout",
     "output_type": "stream",
     "text": [
      "I'm interested to learn Python, SQL, Power BI, Excell!\n"
     ]
    }
   ],
   "source": [
    "msg = 'I\\'m interested to learn Python, SQL, Power BI, Excell!'\n",
    "\n",
    "print(msg)"
   ]
  },
  {
   "cell_type": "code",
   "execution_count": 27,
   "id": "1540e698",
   "metadata": {},
   "outputs": [
    {
     "name": "stdout",
     "output_type": "stream",
     "text": [
      "I'm interested to learn Python, SQL, Power BI, Excell!\n"
     ]
    }
   ],
   "source": [
    "msg = f'I\\'m interested to learn {skills}'\n",
    "\n",
    "print(msg)"
   ]
  },
  {
   "cell_type": "code",
   "execution_count": 28,
   "id": "3a81d8c7",
   "metadata": {},
   "outputs": [
    {
     "name": "stdout",
     "output_type": "stream",
     "text": [
      "\n",
      "    Name: SOHEL\n",
      "    Age: 25\n",
      "    Skills: Data Analyst\n",
      "    Occupation: Start-up\n",
      "    Company: eData Analytix\n",
      "    Location: Estonia\n",
      "    Service Day: Mon-Fri\n",
      "    Office Hours: 9am-5pm\n",
      "    Contact: ceo@edata.io\n",
      "    Phone: 014 xxxx xxxx\n",
      "    Payment Method: Wise, Stripe, Paypal\n",
      "\n"
     ]
    }
   ],
   "source": [
    "help_msg = '''\n",
    "    Name: SOHEL\n",
    "    Age: 25\n",
    "    Skills: Data Analyst\n",
    "    Occupation: Start-up\n",
    "    Company: eData Analytix\n",
    "    Location: Estonia\n",
    "    Service Day: Mon-Fri\n",
    "    Office Hours: 9am-5pm\n",
    "    Contact: ceo@edata.io\n",
    "    Phone: 014 xxxx xxxx\n",
    "    Payment Method: Wise, Stripe, Paypal\n",
    "'''\n",
    "\n",
    "print(help_msg)"
   ]
  },
  {
   "cell_type": "code",
   "execution_count": 29,
   "id": "a5d52879",
   "metadata": {},
   "outputs": [
    {
     "name": "stdout",
     "output_type": "stream",
     "text": [
      "25\n"
     ]
    }
   ],
   "source": [
    "# String Lenth\n",
    "\n",
    "a = \"Welcome to eData Analytix\"\n",
    "\n",
    "print(len(a))"
   ]
  },
  {
   "cell_type": "code",
   "execution_count": 30,
   "id": "741f178f",
   "metadata": {},
   "outputs": [
    {
     "name": "stdout",
     "output_type": "stream",
     "text": [
      "True\n"
     ]
    }
   ],
   "source": [
    "# Check String\n",
    "\n",
    "txt = \"Data Analyst skill required SQL, Excell, Python, Tableu, Power BI\"\n",
    "\n",
    "print(\"Python\" in txt)"
   ]
  },
  {
   "cell_type": "code",
   "execution_count": 31,
   "id": "74b85be4",
   "metadata": {},
   "outputs": [
    {
     "name": "stdout",
     "output_type": "stream",
     "text": [
      "Yes, \"Data\" is present on txt!\n"
     ]
    }
   ],
   "source": [
    "txt = \"Data Analyst skill required SQL, Excell, Python, Tableu, Power BI\"\n",
    "\n",
    "if 'Data' in txt:\n",
    "    print('Yes, \"Data\" is present on txt!')"
   ]
  },
  {
   "cell_type": "code",
   "execution_count": 32,
   "id": "af6bc5af",
   "metadata": {},
   "outputs": [
    {
     "name": "stdout",
     "output_type": "stream",
     "text": [
      "No, Data Science is not present on txt!\n"
     ]
    }
   ],
   "source": [
    "txt = \"Data Analyst skill required SQL, Excell, Python, Tableu, Power BI\"\n",
    "\n",
    "if 'Data Science' in txt:\n",
    "    print('Yes, Data Science is present on txt!')\n",
    "else:\n",
    "    print('No, Data Science is not present on txt!')"
   ]
  },
  {
   "cell_type": "code",
   "execution_count": 33,
   "id": "00da601c",
   "metadata": {},
   "outputs": [
    {
     "name": "stdout",
     "output_type": "stream",
     "text": [
      "False\n"
     ]
    }
   ],
   "source": [
    "# Check not string\n",
    "\n",
    "txt = \"Data Analyst skill required SQL, Excell, Python, Tableu, Power BI\"\n",
    "\n",
    "print(\"Numpy\" in txt)"
   ]
  },
  {
   "cell_type": "code",
   "execution_count": 34,
   "id": "31faa6fd",
   "metadata": {},
   "outputs": [
    {
     "name": "stdout",
     "output_type": "stream",
     "text": [
      "True\n"
     ]
    }
   ],
   "source": [
    "txt = \"Data Analyst skill required SQL, Excell, Python, Tableu, Power BI\"\n",
    "\n",
    "print(\"Numpy\" not in txt)"
   ]
  },
  {
   "cell_type": "code",
   "execution_count": 35,
   "id": "73cf239d",
   "metadata": {},
   "outputs": [
    {
     "name": "stdout",
     "output_type": "stream",
     "text": [
      "Yes, \"Data Science\" is not present on txt!\n"
     ]
    }
   ],
   "source": [
    "txt = \"Data Analyst skill required SQL, Excell, Python, Tableu, Power BI\"\n",
    "\n",
    "if 'Data Science' not in txt:\n",
    "    print(\"Yes, \\\"Data Science\\\" is not present on txt!\")"
   ]
  },
  {
   "cell_type": "code",
   "execution_count": 36,
   "id": "09771141",
   "metadata": {},
   "outputs": [
    {
     "name": "stdout",
     "output_type": "stream",
     "text": [
      "No, 'Microsoft' is not present on txt!\n"
     ]
    }
   ],
   "source": [
    "txt = \"Data Analyst skill required SQL, Excell, Python, Tableu, Power BI\"\n",
    "\n",
    "if 'Microsoft' not in txt:\n",
    "    print('No, \\'Microsoft\\' is not present on txt!')\n",
    "else:\n",
    "    print('Yes, \\'Microsoft\\' is present on txt!')"
   ]
  },
  {
   "cell_type": "markdown",
   "id": "69b895a7",
   "metadata": {},
   "source": [
    "**Python - Slicing Strings**"
   ]
  },
  {
   "cell_type": "code",
   "execution_count": 37,
   "id": "c05f06e9",
   "metadata": {},
   "outputs": [
    {
     "name": "stdout",
     "output_type": "stream",
     "text": [
      "Python is Awsome\n",
      "Python \n",
      "Awsom\n"
     ]
    }
   ],
   "source": [
    "# Slicing\n",
    "\n",
    "text = \"Python is Awsome\"\n",
    "\n",
    "print(text)\n",
    "print(text[0:7])\n",
    "print(text[-6:-1])"
   ]
  },
  {
   "cell_type": "code",
   "execution_count": 38,
   "id": "8da16f82",
   "metadata": {},
   "outputs": [
    {
     "name": "stdout",
     "output_type": "stream",
     "text": [
      "Data \n"
     ]
    }
   ],
   "source": [
    "# slice from the start\n",
    "\n",
    "text = \"Data Science is Awsome\"\n",
    "\n",
    "print(text[:5])"
   ]
  },
  {
   "cell_type": "code",
   "execution_count": 39,
   "id": "e3ec9caa",
   "metadata": {},
   "outputs": [
    {
     "name": "stdout",
     "output_type": "stream",
     "text": [
      "Awsome\n"
     ]
    }
   ],
   "source": [
    "# slice from the End\n",
    "\n",
    "text = \"Data Science is Awsome\"\n",
    "\n",
    "print(text[-6:])"
   ]
  },
  {
   "cell_type": "code",
   "execution_count": 40,
   "id": "d0dcc1dc",
   "metadata": {},
   "outputs": [
    {
     "name": "stdout",
     "output_type": "stream",
     "text": [
      "Data Analyst is Great Carrer\n",
      "Great\n"
     ]
    }
   ],
   "source": [
    "# Negative Indexing\n",
    "\n",
    "text = \"Data Analyst is Great Carrer\"\n",
    "\n",
    "print(text)\n",
    "print(text[-12:-7])"
   ]
  },
  {
   "cell_type": "markdown",
   "id": "4a8b4f2f",
   "metadata": {},
   "source": [
    "Python - Modify Strings\n"
   ]
  },
  {
   "cell_type": "code",
   "execution_count": 41,
   "id": "fed888f3",
   "metadata": {},
   "outputs": [
    {
     "name": "stdout",
     "output_type": "stream",
     "text": [
      "SQL, EXCELL\n"
     ]
    }
   ],
   "source": [
    "# uppercase\n",
    "\n",
    "txt = 'sql, excell'\n",
    "\n",
    "print(txt.upper())"
   ]
  },
  {
   "cell_type": "code",
   "execution_count": 42,
   "id": "67a50fde",
   "metadata": {},
   "outputs": [
    {
     "name": "stdout",
     "output_type": "stream",
     "text": [
      "pandas, numpy, matplotlib\n"
     ]
    }
   ],
   "source": [
    "# Lowercase\n",
    "\n",
    "txt = \"PANDAS, NUMPY, MATPLOTLIB\"\n",
    "\n",
    "print(txt.lower())"
   ]
  },
  {
   "cell_type": "code",
   "execution_count": 43,
   "id": "e45bc747",
   "metadata": {},
   "outputs": [
    {
     "name": "stdout",
     "output_type": "stream",
     "text": [
      " R is great for Data visualization! \n",
      "R is great for Data visualization!\n"
     ]
    }
   ],
   "source": [
    "# Remove White Space\n",
    "\n",
    "txt = \" R is great for Data visualization! \"\n",
    "\n",
    "print(txt)\n",
    "print(txt.strip())"
   ]
  },
  {
   "cell_type": "code",
   "execution_count": 44,
   "id": "87f9607f",
   "metadata": {},
   "outputs": [
    {
     "name": "stdout",
     "output_type": "stream",
     "text": [
      "SQL, Python, R, Power BI, Excell\n",
      "SQL, Python, Tableu, Power BI, Excell\n"
     ]
    }
   ],
   "source": [
    "# Replace String\n",
    "\n",
    "txt = 'SQL, Python, R, Power BI, Excell'\n",
    "\n",
    "print(txt)\n",
    "print(txt.replace('R', 'Tableu'))"
   ]
  },
  {
   "cell_type": "code",
   "execution_count": 45,
   "id": "9ecc271b",
   "metadata": {},
   "outputs": [
    {
     "name": "stdout",
     "output_type": "stream",
     "text": [
      "Excell SQL Python Numpy Matplotlib Pandas Beautiful-Soup Power-BI\n",
      "['Excell', 'SQL', 'Python', 'Numpy', 'Matplotlib', 'Pandas', 'Beautiful-Soup', 'Power-BI']\n"
     ]
    }
   ],
   "source": [
    "# Split String Methods Become Lists\n",
    "\n",
    "analyst = 'Excell SQL Python Numpy Matplotlib Pandas Beautiful-Soup Power-BI'\n",
    "\n",
    "print(analyst)\n",
    "print(analyst.split())"
   ]
  },
  {
   "cell_type": "code",
   "execution_count": 46,
   "id": "16bfc04b",
   "metadata": {},
   "outputs": [
    {
     "name": "stdout",
     "output_type": "stream",
     "text": [
      "SQL\n"
     ]
    }
   ],
   "source": [
    "print(analyst.split()[1])"
   ]
  },
  {
   "cell_type": "code",
   "execution_count": 47,
   "id": "e2939d70",
   "metadata": {},
   "outputs": [
    {
     "name": "stdout",
     "output_type": "stream",
     "text": [
      "['SQL', 'Python']\n"
     ]
    }
   ],
   "source": [
    "print(analyst.split()[1:3])"
   ]
  },
  {
   "cell_type": "code",
   "execution_count": 48,
   "id": "6997b506",
   "metadata": {},
   "outputs": [
    {
     "name": "stdout",
     "output_type": "stream",
     "text": [
      "Power-BI\n"
     ]
    }
   ],
   "source": [
    "print(analyst.split()[-1])"
   ]
  },
  {
   "cell_type": "code",
   "execution_count": 49,
   "id": "e369d952",
   "metadata": {},
   "outputs": [
    {
     "name": "stdout",
     "output_type": "stream",
     "text": [
      "Python Library Numpy Pandas\n",
      "Excell functions are Pivot Table, IF condition, XLOOKUP, VLOOKUP\n",
      "Pivot Table, IF condition, XLOOKUP, VLOOKUP - Data Definition, Data Manipulation, Left Join, Right Join, Inner Join\n"
     ]
    }
   ],
   "source": [
    "# String Concatenation\n",
    "\n",
    "py = \"Numpy Pandas\"\n",
    "\n",
    "ex = 'Pivot Table, IF condition, XLOOKUP, VLOOKUP'\n",
    "\n",
    "sql = \"Data Definition, Data Manipulation, Left Join, Right Join, Inner Join\"\n",
    "\n",
    "python = \"Python Library \"  + py\n",
    "\n",
    "print(python)\n",
    "\n",
    "print(f'Excell functions are {ex}')\n",
    "\n",
    "print(ex + \" - \" + sql)"
   ]
  },
  {
   "cell_type": "code",
   "execution_count": 50,
   "id": "2958fd38",
   "metadata": {},
   "outputs": [
    {
     "ename": "TypeError",
     "evalue": "can only concatenate str (not \"int\") to str",
     "output_type": "error",
     "traceback": [
      "\u001b[1;31m---------------------------------------------------------------------------\u001b[0m",
      "\u001b[1;31mTypeError\u001b[0m                                 Traceback (most recent call last)",
      "\u001b[1;32m~\\AppData\\Local\\Temp\\ipykernel_6400\\982055754.py\u001b[0m in \u001b[0;36m<module>\u001b[1;34m\u001b[0m\n\u001b[0;32m      1\u001b[0m \u001b[0mage\u001b[0m \u001b[1;33m=\u001b[0m \u001b[1;36m36\u001b[0m\u001b[1;33m\u001b[0m\u001b[1;33m\u001b[0m\u001b[0m\n\u001b[1;32m----> 2\u001b[1;33m \u001b[0mtxt\u001b[0m \u001b[1;33m=\u001b[0m \u001b[1;34m\"My name is John, I am \"\u001b[0m \u001b[1;33m+\u001b[0m \u001b[0mage\u001b[0m\u001b[1;33m\u001b[0m\u001b[1;33m\u001b[0m\u001b[0m\n\u001b[0m\u001b[0;32m      3\u001b[0m \u001b[0mprint\u001b[0m\u001b[1;33m(\u001b[0m\u001b[0mtxt\u001b[0m\u001b[1;33m)\u001b[0m\u001b[1;33m\u001b[0m\u001b[1;33m\u001b[0m\u001b[0m\n",
      "\u001b[1;31mTypeError\u001b[0m: can only concatenate str (not \"int\") to str"
     ]
    }
   ],
   "source": [
    "age = 36\n",
    "txt = \"My name is John, I am \" + age\n",
    "print(txt)"
   ]
  },
  {
   "cell_type": "markdown",
   "id": "5debe879",
   "metadata": {},
   "source": [
    "#### Python - Strings - Format"
   ]
  },
  {
   "cell_type": "code",
   "execution_count": 51,
   "id": "17c678f9",
   "metadata": {},
   "outputs": [
    {
     "name": "stdout",
     "output_type": "stream",
     "text": [
      "I have 3 years experience in Data Science\n"
     ]
    }
   ],
   "source": [
    "# Use the format() method to insert numbers into strings:\n",
    "\n",
    "yr = 3\n",
    "\n",
    "exp = 'I have {} years experience in Data Science'\n",
    "\n",
    "print(exp.format(yr))"
   ]
  },
  {
   "cell_type": "code",
   "execution_count": 52,
   "id": "a0621a34",
   "metadata": {},
   "outputs": [
    {
     "name": "stdout",
     "output_type": "stream",
     "text": [
      "I have 2 years Experience in Data Science field. My strong knowledge on SQL Python Excell Power-BI Tableu.\n"
     ]
    }
   ],
   "source": [
    "yr = 2\n",
    "\n",
    "cas = 'Data Science'\n",
    "\n",
    "skills = 'SQL Python Excell Power-BI Tableu'\n",
    "\n",
    "txt = \"I have {} years Experience in {} field. My strong knowledge on {}.\"\n",
    "\n",
    "print(txt.format(yr, cas, skills))"
   ]
  },
  {
   "cell_type": "markdown",
   "id": "6a956e8a",
   "metadata": {},
   "source": [
    "#### Python - Escape Characters"
   ]
  },
  {
   "cell_type": "code",
   "execution_count": 53,
   "id": "412a17ab",
   "metadata": {},
   "outputs": [
    {
     "ename": "SyntaxError",
     "evalue": "invalid syntax (179670738.py, line 1)",
     "output_type": "error",
     "traceback": [
      "\u001b[1;36m  File \u001b[1;32m\"C:\\Users\\User\\AppData\\Local\\Temp\\ipykernel_6400\\179670738.py\"\u001b[1;36m, line \u001b[1;32m1\u001b[0m\n\u001b[1;33m    pymsg = \"Here, I skip \"Data Science\" word.\"\u001b[0m\n\u001b[1;37m                           ^\u001b[0m\n\u001b[1;31mSyntaxError\u001b[0m\u001b[1;31m:\u001b[0m invalid syntax\n"
     ]
    }
   ],
   "source": [
    "pymsg = \"Here, I skip \"Data Science\" word.\"\n",
    "\n",
    "print(pymsg)"
   ]
  },
  {
   "cell_type": "code",
   "execution_count": null,
   "id": "4de8e335",
   "metadata": {},
   "outputs": [],
   "source": [
    "pymsg = \"Here, I skip \\\"Data Science\\\" word.\"\n",
    "\n",
    "print(pymsg)"
   ]
  },
  {
   "cell_type": "code",
   "execution_count": null,
   "id": "cc9534b6",
   "metadata": {},
   "outputs": [],
   "source": [
    "smsg = 'Single \\'Quote\\' Message Here'\n",
    "\n",
    "print(smsg)"
   ]
  },
  {
   "cell_type": "code",
   "execution_count": null,
   "id": "f8ccffcf",
   "metadata": {},
   "outputs": [],
   "source": [
    "ntxt = \"I create \\nNew Line\"\n",
    "\n",
    "print(ntxt)"
   ]
  },
  {
   "cell_type": "code",
   "execution_count": null,
   "id": "6ca25724",
   "metadata": {},
   "outputs": [],
   "source": [
    "rtxt = \"Carrige \\rReturn\"\n",
    "\n",
    "print(rtxt)"
   ]
  },
  {
   "cell_type": "code",
   "execution_count": null,
   "id": "d0c8a331",
   "metadata": {},
   "outputs": [],
   "source": [
    "tab = \"Create Tab with \\n\\tNew Line\"\n",
    "\n",
    "print(tab)"
   ]
  },
  {
   "cell_type": "code",
   "execution_count": null,
   "id": "eee86016",
   "metadata": {},
   "outputs": [],
   "source": [
    "bs = \"Use Back \\bSpace\"\n",
    "\n",
    "print(bs)"
   ]
  },
  {
   "cell_type": "markdown",
   "id": "342db9b3",
   "metadata": {},
   "source": [
    "#### Python String Method"
   ]
  },
  {
   "cell_type": "code",
   "execution_count": 54,
   "id": "62b570e5",
   "metadata": {},
   "outputs": [
    {
     "name": "stdout",
     "output_type": "stream",
     "text": [
      "Data science - python: numpy, pandas, matplotlib, machine learning\n"
     ]
    }
   ],
   "source": [
    "# Capitalize\n",
    "\n",
    "x = \"data Science - Python: Numpy, pandas, Matplotlib, machine learning\"\n",
    "\n",
    "print(x.capitalize())"
   ]
  },
  {
   "cell_type": "code",
   "execution_count": 55,
   "id": "c1036ea4",
   "metadata": {},
   "outputs": [
    {
     "name": "stdout",
     "output_type": "stream",
     "text": [
      "usd, uae, gbp, eur, cad, sar, inr, bdt, nzd, aud, sgd\n"
     ]
    }
   ],
   "source": [
    "# Casefold\n",
    "\n",
    "x = \"USD, UAE, GBP, EUR, CAD, SAR, INR, BDT, NZD, AUD, SGD\"\n",
    "\n",
    "print(x.casefold())"
   ]
  },
  {
   "cell_type": "code",
   "execution_count": 56,
   "id": "72650efa",
   "metadata": {},
   "outputs": [
    {
     "name": "stdout",
     "output_type": "stream",
     "text": [
      "----------------------------Data Analytics is the Best Carrer!----------------------------\n"
     ]
    }
   ],
   "source": [
    "# CENTER \n",
    "\n",
    "x = 'Data Analytics is the Best Carrer!'\n",
    "\n",
    "print(x.center(90,'-'))"
   ]
  },
  {
   "cell_type": "code",
   "execution_count": 57,
   "id": "16c27a52",
   "metadata": {},
   "outputs": [
    {
     "name": "stdout",
     "output_type": "stream",
     "text": [
      "2\n"
     ]
    }
   ],
   "source": [
    "# Count\n",
    "\n",
    "x = 'Python is Good For Data Science, Python is also use For Backend Web Development'\n",
    "\n",
    "print(x.count('Python'))"
   ]
  },
  {
   "cell_type": "code",
   "execution_count": 58,
   "id": "becf7490",
   "metadata": {},
   "outputs": [
    {
     "name": "stdout",
     "output_type": "stream",
     "text": [
      "1\n"
     ]
    }
   ],
   "source": [
    "# Count By specific position\n",
    "\n",
    "x = 'Python is Good For Data Science, Python is also use For Backend Web Development'\n",
    "\n",
    "print(x.count('Python', 10, 50))"
   ]
  },
  {
   "cell_type": "code",
   "execution_count": 59,
   "id": "d8d8a781",
   "metadata": {},
   "outputs": [
    {
     "name": "stdout",
     "output_type": "stream",
     "text": [
      "True\n"
     ]
    }
   ],
   "source": [
    "# endswith()\n",
    "\n",
    "x = 'Excell is good for data analysis'\n",
    "\n",
    "print(x.endswith('analysis'))"
   ]
  },
  {
   "cell_type": "code",
   "execution_count": 60,
   "id": "0870d803",
   "metadata": {},
   "outputs": [
    {
     "name": "stdout",
     "output_type": "stream",
     "text": [
      "True\n"
     ]
    }
   ],
   "source": [
    "x = 'Excell is good for data analysis'\n",
    "\n",
    "print(x.endswith('data', 18, 23))"
   ]
  },
  {
   "cell_type": "code",
   "execution_count": 61,
   "id": "01c92cfb",
   "metadata": {},
   "outputs": [
    {
     "name": "stdout",
     "output_type": "stream",
     "text": [
      "False\n"
     ]
    }
   ],
   "source": [
    "x = 'Excell is good for data analysis'\n",
    "\n",
    "print(x.endswith('data'))"
   ]
  },
  {
   "cell_type": "code",
   "execution_count": 62,
   "id": "c1e17f32",
   "metadata": {},
   "outputs": [
    {
     "name": "stdout",
     "output_type": "stream",
     "text": [
      "DATA\tSCIENCE\n",
      "DATA    SCIENCE\n",
      "DATA SCIENCE\n",
      "DATA    SCIENCE\n",
      "DATA      SCIENCE\n"
     ]
    }
   ],
   "source": [
    "# Expands Tab ()\n",
    "\n",
    "x = \"DATA\\tSCIENCE\"\n",
    "\n",
    "print(x)\n",
    "print(x.expandtabs())\n",
    "print(x.expandtabs(1))\n",
    "print(x.expandtabs(4))\n",
    "print(x.expandtabs(10))"
   ]
  },
  {
   "cell_type": "code",
   "execution_count": 63,
   "id": "3d35d29a",
   "metadata": {},
   "outputs": [
    {
     "name": "stdout",
     "output_type": "stream",
     "text": [
      "Kaggle is good for practice Data Science\n",
      "28\n"
     ]
    }
   ],
   "source": [
    "# FIND()\n",
    "\n",
    "x = \"Kaggle is good for practice Data Science\"\n",
    "\n",
    "print(x)\n",
    "print(x.find('Data'))"
   ]
  },
  {
   "cell_type": "code",
   "execution_count": 64,
   "id": "7a4394e0",
   "metadata": {},
   "outputs": [
    {
     "name": "stdout",
     "output_type": "stream",
     "text": [
      "Kaggle is good for practice Data Science\n",
      "-1\n"
     ]
    }
   ],
   "source": [
    "x = \"Kaggle is good for practice Data Science\"\n",
    "\n",
    "print(x)\n",
    "print(x.find('Data Analysis'))"
   ]
  },
  {
   "cell_type": "code",
   "execution_count": 65,
   "id": "2a501fb7",
   "metadata": {},
   "outputs": [
    {
     "name": "stdout",
     "output_type": "stream",
     "text": [
      "Kaggle is good for practice Data Science\n",
      "28\n"
     ]
    }
   ],
   "source": [
    "# Index\n",
    "\n",
    "x = \"Kaggle is good for practice Data Science\"\n",
    "\n",
    "print(x)\n",
    "print(x.index('Data'))"
   ]
  },
  {
   "cell_type": "code",
   "execution_count": 66,
   "id": "45076cd1",
   "metadata": {},
   "outputs": [
    {
     "name": "stdout",
     "output_type": "stream",
     "text": [
      "Kaggle is good for practice Data Science\n",
      "0\n"
     ]
    }
   ],
   "source": [
    "x = \"Kaggle is good for practice Data Science\"\n",
    "\n",
    "print(x)\n",
    "print(x.index('Kaggle', 0, 10))"
   ]
  },
  {
   "cell_type": "code",
   "execution_count": 67,
   "id": "38bfdd21",
   "metadata": {},
   "outputs": [
    {
     "name": "stdout",
     "output_type": "stream",
     "text": [
      "Kaggle is good for practice Data Science\n",
      "-1\n"
     ]
    },
    {
     "ename": "ValueError",
     "evalue": "substring not found",
     "output_type": "error",
     "traceback": [
      "\u001b[1;31m---------------------------------------------------------------------------\u001b[0m",
      "\u001b[1;31mValueError\u001b[0m                                Traceback (most recent call last)",
      "\u001b[1;32m~\\AppData\\Local\\Temp\\ipykernel_6400\\2556080937.py\u001b[0m in \u001b[0;36m<module>\u001b[1;34m\u001b[0m\n\u001b[0;32m      6\u001b[0m \u001b[0mprint\u001b[0m\u001b[1;33m(\u001b[0m\u001b[0mx\u001b[0m\u001b[1;33m)\u001b[0m\u001b[1;33m\u001b[0m\u001b[1;33m\u001b[0m\u001b[0m\n\u001b[0;32m      7\u001b[0m \u001b[0mprint\u001b[0m\u001b[1;33m(\u001b[0m\u001b[0mx\u001b[0m\u001b[1;33m.\u001b[0m\u001b[0mfind\u001b[0m\u001b[1;33m(\u001b[0m\u001b[1;34m'Data'\u001b[0m\u001b[1;33m,\u001b[0m \u001b[1;36m0\u001b[0m\u001b[1;33m,\u001b[0m \u001b[1;36m10\u001b[0m\u001b[1;33m)\u001b[0m\u001b[1;33m)\u001b[0m\u001b[1;33m\u001b[0m\u001b[1;33m\u001b[0m\u001b[0m\n\u001b[1;32m----> 8\u001b[1;33m \u001b[0mprint\u001b[0m\u001b[1;33m(\u001b[0m\u001b[0mx\u001b[0m\u001b[1;33m.\u001b[0m\u001b[0mindex\u001b[0m\u001b[1;33m(\u001b[0m\u001b[1;34m'Data'\u001b[0m\u001b[1;33m,\u001b[0m \u001b[1;36m0\u001b[0m\u001b[1;33m,\u001b[0m \u001b[1;36m10\u001b[0m\u001b[1;33m)\u001b[0m\u001b[1;33m)\u001b[0m\u001b[1;33m\u001b[0m\u001b[1;33m\u001b[0m\u001b[0m\n\u001b[0m",
      "\u001b[1;31mValueError\u001b[0m: substring not found"
     ]
    }
   ],
   "source": [
    "# Find return -1 when value is not found\n",
    "# Index return ValueError Message when value is not found\n",
    "\n",
    "x = \"Kaggle is good for practice Data Science\"\n",
    "\n",
    "print(x)\n",
    "print(x.find('Data', 0, 10))\n",
    "print(x.index('Data', 0, 10))"
   ]
  },
  {
   "cell_type": "code",
   "execution_count": 68,
   "id": "b017bba2",
   "metadata": {},
   "outputs": [
    {
     "name": "stdout",
     "output_type": "stream",
     "text": [
      "Kaggle is good for practice Data Science\n",
      "33\n",
      "33\n"
     ]
    }
   ],
   "source": [
    "x = \"Kaggle is good for practice Data Science\"\n",
    "\n",
    "print(x)\n",
    "print(x.find('Science'))\n",
    "print(x.index('Science'))"
   ]
  },
  {
   "cell_type": "code",
   "execution_count": 69,
   "id": "301eb342",
   "metadata": {},
   "outputs": [
    {
     "name": "stdout",
     "output_type": "stream",
     "text": [
      "GBP RATE IS GREATER THAN EURO\n"
     ]
    }
   ],
   "source": [
    "# upper\n",
    "\n",
    "x = \"gbp rate is greater than Euro\"\n",
    "\n",
    "print(x.upper())"
   ]
  },
  {
   "cell_type": "code",
   "execution_count": 70,
   "id": "cb597711",
   "metadata": {},
   "outputs": [
    {
     "name": "stdout",
     "output_type": "stream",
     "text": [
      "dhaka is the city of mosque!\n"
     ]
    }
   ],
   "source": [
    "# Lower\n",
    "\n",
    "x = 'DHAKA IS THE CITY OF MOSQUE!'\n",
    "\n",
    "print(x.lower())"
   ]
  },
  {
   "cell_type": "code",
   "execution_count": 71,
   "id": "9447efb1",
   "metadata": {},
   "outputs": [
    {
     "name": "stdout",
     "output_type": "stream",
     "text": [
      "X - WELCOME TO DATA SCIENCE WORLD\n",
      "Y - django is the best for web app development\n",
      "X is Lower Case: False\n",
      "Y is Lower Case: True\n",
      "X is Upper Case: True\n",
      "Y is Upper Case: False\n"
     ]
    }
   ],
   "source": [
    "# isupper\n",
    "# islower\n",
    "\n",
    "x = \"WELCOME TO DATA SCIENCE WORLD\"\n",
    "\n",
    "y = 'django is the best for web app development'\n",
    "\n",
    "print(\"X - \" + x +\"\\nY - \" + y)\n",
    "\n",
    "print(f\"X is Lower Case: {x.islower()}\")\n",
    "print(f\"Y is Lower Case: {y.islower()}\")\n",
    "print(f\"X is Upper Case: {x.isupper()}\")\n",
    "print(f\"Y is Upper Case: {y.isupper()}\")"
   ]
  },
  {
   "cell_type": "markdown",
   "id": "86cd86a5",
   "metadata": {},
   "source": [
    "### Control Flow"
   ]
  },
  {
   "cell_type": "code",
   "execution_count": 72,
   "id": "72649461",
   "metadata": {},
   "outputs": [
    {
     "name": "stdout",
     "output_type": "stream",
     "text": [
      "Enter your age: 24\n",
      "\n",
      "\tYou're eligible to vote.\n"
     ]
    }
   ],
   "source": [
    "age = input('Enter your age: ')\n",
    "if int(age) >= 18:\n",
    "    print(\"\\n\\tYou're eligible to vote.\")\n",
    "else:\n",
    "    print(\"\\n\\tYou're not eligible to vote.\")"
   ]
  },
  {
   "cell_type": "code",
   "execution_count": 73,
   "id": "f4f65535",
   "metadata": {},
   "outputs": [
    {
     "name": "stdout",
     "output_type": "stream",
     "text": [
      "Enter your age: 13\n",
      "Ticket Price BDT 5 TK\n"
     ]
    }
   ],
   "source": [
    "age = input('Enter your age: ')\n",
    "\n",
    "ticket_price = 20 if int(age) >= 18 else 5\n",
    "\n",
    "print(f\"Ticket Price BDT {ticket_price} TK\")"
   ]
  },
  {
   "cell_type": "code",
   "execution_count": 74,
   "id": "97d71d5d",
   "metadata": {},
   "outputs": [
    {
     "name": "stdout",
     "output_type": "stream",
     "text": [
      "0\n",
      "1\n",
      "2\n",
      "3\n",
      "4\n"
     ]
    }
   ],
   "source": [
    "# For Loop\n",
    "\n",
    "for index in range(5):\n",
    "    print(index)"
   ]
  },
  {
   "cell_type": "code",
   "execution_count": 75,
   "id": "c9dd2822",
   "metadata": {},
   "outputs": [
    {
     "name": "stdout",
     "output_type": "stream",
     "text": [
      "1\n",
      "2\n",
      "3\n",
      "4\n",
      "5\n"
     ]
    }
   ],
   "source": [
    "for index in range(5):\n",
    "    print(index + 1)"
   ]
  },
  {
   "cell_type": "code",
   "execution_count": 76,
   "id": "184258be",
   "metadata": {},
   "outputs": [
    {
     "name": "stdout",
     "output_type": "stream",
     "text": [
      "100\n",
      "101\n",
      "102\n",
      "103\n",
      "104\n"
     ]
    }
   ],
   "source": [
    "# range(start, stop)\n",
    "\n",
    "for index in range(100, 105):\n",
    "    print(index)"
   ]
  },
  {
   "cell_type": "code",
   "execution_count": 77,
   "id": "ca31ac14",
   "metadata": {},
   "outputs": [
    {
     "name": "stdout",
     "output_type": "stream",
     "text": [
      "101\n",
      "102\n",
      "103\n",
      "104\n",
      "105\n"
     ]
    }
   ],
   "source": [
    "# range(start, stop)\n",
    "\n",
    "for index in range(100, 105):\n",
    "    print(index + 1)"
   ]
  },
  {
   "cell_type": "code",
   "execution_count": 78,
   "id": "a7c18f52",
   "metadata": {},
   "outputs": [
    {
     "name": "stdout",
     "output_type": "stream",
     "text": [
      "1\n",
      "3\n",
      "5\n",
      "7\n",
      "9\n"
     ]
    }
   ],
   "source": [
    "# range(start, stop, step)\n",
    "\n",
    "for index in range(1, 10, 2):\n",
    "    print(index)"
   ]
  },
  {
   "cell_type": "code",
   "execution_count": 79,
   "id": "c4471b08",
   "metadata": {},
   "outputs": [
    {
     "name": "stdout",
     "output_type": "stream",
     "text": [
      "2\n",
      "4\n",
      "6\n",
      "8\n",
      "10\n"
     ]
    }
   ],
   "source": [
    "# range(start, stop, step)\n",
    "\n",
    "for index in range(1, 10, 2):\n",
    "    print(index + 1)"
   ]
  },
  {
   "cell_type": "code",
   "execution_count": 80,
   "id": "cdbda256",
   "metadata": {},
   "outputs": [
    {
     "name": "stdout",
     "output_type": "stream",
     "text": [
      "0\n",
      "2\n",
      "4\n",
      "6\n",
      "8\n",
      "10\n"
     ]
    }
   ],
   "source": [
    "# range(start, stop, step)\n",
    "\n",
    "for index in range(0, 11, 2):\n",
    "    print(index)"
   ]
  },
  {
   "cell_type": "code",
   "execution_count": 81,
   "id": "9ba9fda2",
   "metadata": {},
   "outputs": [
    {
     "name": "stdout",
     "output_type": "stream",
     "text": [
      "0\n",
      "3\n",
      "6\n",
      "9\n"
     ]
    }
   ],
   "source": [
    "# range(start, stop, step)\n",
    "\n",
    "for index in range(0, 10, 3):\n",
    "    print(index)"
   ]
  },
  {
   "cell_type": "code",
   "execution_count": 82,
   "id": "e6d2c3ba",
   "metadata": {},
   "outputs": [
    {
     "name": "stdout",
     "output_type": "stream",
     "text": [
      "3\n",
      "6\n",
      "9\n",
      "12\n"
     ]
    }
   ],
   "source": [
    "# range(start, stop, step)\n",
    "\n",
    "for index in range(1, 11, 3):\n",
    "    print(index + 2)"
   ]
  },
  {
   "cell_type": "code",
   "execution_count": 83,
   "id": "3c99d36a",
   "metadata": {},
   "outputs": [
    {
     "name": "stdout",
     "output_type": "stream",
     "text": [
      "45\n"
     ]
    }
   ],
   "source": [
    "sum = 0\n",
    "\n",
    "for num in range(10):\n",
    "    sum += num\n",
    "\n",
    "print(sum)"
   ]
  },
  {
   "cell_type": "code",
   "execution_count": 84,
   "id": "f6db0613",
   "metadata": {},
   "outputs": [
    {
     "name": "stdout",
     "output_type": "stream",
     "text": [
      "0\n",
      "1\n",
      "2\n",
      "3\n",
      "4\n"
     ]
    }
   ],
   "source": [
    "# While Loop\n",
    "\n",
    "max = 5\n",
    "counter = 0\n",
    "\n",
    "while counter < max:\n",
    "    print(counter)\n",
    "    counter += 1"
   ]
  },
  {
   "cell_type": "code",
   "execution_count": 85,
   "id": "68ad6dfd",
   "metadata": {},
   "outputs": [
    {
     "name": "stdout",
     "output_type": "stream",
     "text": [
      ">Hi\n",
      "Echo: Hi\n",
      ">Sohel\n",
      "Echo: Sohel\n",
      ">Good Day!\n",
      "Echo: Good Day!\n",
      ">Quit\n",
      "Echo: Quit\n"
     ]
    }
   ],
   "source": [
    "command = ''\n",
    "\n",
    "while command.lower() != 'quit':\n",
    "    command = input('>')\n",
    "    print(f\"Echo: {command}\")"
   ]
  },
  {
   "cell_type": "code",
   "execution_count": 86,
   "id": "f2bd9167",
   "metadata": {},
   "outputs": [
    {
     "name": "stdout",
     "output_type": "stream",
     "text": [
      "0\n",
      "1\n",
      "2\n",
      "3\n"
     ]
    }
   ],
   "source": [
    "# Using Python break with for loop\n",
    "for index in range(0, 10):\n",
    "    print(index)\n",
    "    if index == 3:\n",
    "        break"
   ]
  },
  {
   "cell_type": "code",
   "execution_count": 87,
   "id": "9437f6de",
   "metadata": {},
   "outputs": [
    {
     "name": "stdout",
     "output_type": "stream",
     "text": [
      "(0,0)\n",
      "(0,1)\n",
      "(1,0)\n",
      "(1,1)\n",
      "(2,0)\n",
      "(2,1)\n",
      "(3,0)\n",
      "(3,1)\n",
      "(4,0)\n",
      "(4,1)\n"
     ]
    }
   ],
   "source": [
    "for x in range(5):\n",
    "    for y in range(5):\n",
    "        # terminate the innermost loop\n",
    "        if y > 1:\n",
    "            break\n",
    "        # show coordinates on the screen\n",
    "        print(f\"({x},{y})\")"
   ]
  },
  {
   "cell_type": "code",
   "execution_count": 88,
   "id": "13f4197d",
   "metadata": {},
   "outputs": [
    {
     "name": "stdout",
     "output_type": "stream",
     "text": [
      "-- Help: type quit to exit --\n",
      "Enter your favorite color:Blue\n",
      "Enter your favorite color:Light Blue\n",
      "Enter your favorite color:Purple\n",
      "Enter your favorite color:quiT\n"
     ]
    }
   ],
   "source": [
    "# Type quit to exit the Loop\n",
    "\n",
    "print('-- Help: type quit to exit --')\n",
    "while True:\n",
    "    color = input('Enter your favorite color:')\n",
    "    if color.lower() == 'quit':\n",
    "        break"
   ]
  },
  {
   "cell_type": "code",
   "execution_count": 89,
   "id": "425eff26",
   "metadata": {},
   "outputs": [
    {
     "name": "stdout",
     "output_type": "stream",
     "text": [
      "0\n",
      "2\n",
      "4\n",
      "6\n",
      "8\n"
     ]
    }
   ],
   "source": [
    "# Python continue statement\n",
    "\n",
    "for index in range(10):\n",
    "    if index % 2:\n",
    "        continue\n",
    "\n",
    "    print(index)"
   ]
  },
  {
   "cell_type": "code",
   "execution_count": 90,
   "id": "2c27e133",
   "metadata": {},
   "outputs": [
    {
     "name": "stdout",
     "output_type": "stream",
     "text": [
      "1\n",
      "3\n",
      "5\n",
      "7\n",
      "9\n"
     ]
    }
   ],
   "source": [
    "# Python continue statement\n",
    "\n",
    "for index in range(10):\n",
    "    if not index % 2:\n",
    "        continue\n",
    "\n",
    "    print(index)"
   ]
  },
  {
   "cell_type": "code",
   "execution_count": 91,
   "id": "149cd4c8",
   "metadata": {},
   "outputs": [
    {
     "name": "stdout",
     "output_type": "stream",
     "text": [
      "2\n",
      "4\n",
      "6\n",
      "8\n",
      "10\n"
     ]
    }
   ],
   "source": [
    "# print the even numbers \n",
    "counter = 0\n",
    "while counter < 10:\n",
    "    counter += 1\n",
    "\n",
    "    if counter % 2:\n",
    "        continue\n",
    "\n",
    "    print(counter)"
   ]
  },
  {
   "cell_type": "code",
   "execution_count": 92,
   "id": "9d0c4a15",
   "metadata": {},
   "outputs": [
    {
     "name": "stdout",
     "output_type": "stream",
     "text": [
      "1\n",
      "3\n",
      "5\n",
      "7\n",
      "9\n"
     ]
    }
   ],
   "source": [
    "# print the odd numbers \n",
    "counter = 0\n",
    "while counter < 10:\n",
    "    counter += 1\n",
    "\n",
    "    if not counter % 2:\n",
    "        continue\n",
    "\n",
    "    print(counter)"
   ]
  },
  {
   "cell_type": "code",
   "execution_count": 93,
   "id": "d3882e5c",
   "metadata": {},
   "outputs": [
    {
     "name": "stdout",
     "output_type": "stream",
     "text": [
      "2\n"
     ]
    }
   ],
   "source": [
    "# Python pass statement\n",
    "\n",
    "counter = 1\n",
    "max = 10\n",
    "if counter <= max:\n",
    "    counter += 1\n",
    "    print(counter)\n",
    "else:\n",
    "    pass"
   ]
  },
  {
   "cell_type": "markdown",
   "id": "72e747ae",
   "metadata": {},
   "source": [
    "## Python Function"
   ]
  },
  {
   "cell_type": "code",
   "execution_count": 94,
   "id": "0df4e170",
   "metadata": {},
   "outputs": [
    {
     "name": "stdout",
     "output_type": "stream",
     "text": [
      "Hi, Good Day!\n"
     ]
    }
   ],
   "source": [
    "# Function define def\n",
    "\n",
    "def greet():\n",
    "    print(\"Hi, Good Day!\")\n",
    "    \n",
    "# Function Call\n",
    "\n",
    "greet()"
   ]
  },
  {
   "cell_type": "code",
   "execution_count": 95,
   "id": "5f0af88a",
   "metadata": {},
   "outputs": [
    {
     "name": "stdout",
     "output_type": "stream",
     "text": [
      "Hi Sohel\n"
     ]
    }
   ],
   "source": [
    "# Functions Define With Variables\n",
    "\n",
    "def greet(name):\n",
    "    print(f\"Hi {name}\")\n",
    "    \n",
    "greet(\"Sohel\")"
   ]
  },
  {
   "cell_type": "code",
   "execution_count": 96,
   "id": "31ca5dac",
   "metadata": {},
   "outputs": [
    {
     "name": "stdout",
     "output_type": "stream",
     "text": [
      "Hi Mohammad\n"
     ]
    }
   ],
   "source": [
    "name = \"Mohammad\"\n",
    "\n",
    "greet(name)"
   ]
  },
  {
   "cell_type": "code",
   "execution_count": 97,
   "id": "c77462f8",
   "metadata": {},
   "outputs": [
    {
     "data": {
      "text/plain": [
       "'Hi Sohel'"
      ]
     },
     "execution_count": 97,
     "metadata": {},
     "output_type": "execute_result"
    }
   ],
   "source": [
    "# Functions With Return\n",
    "\n",
    "def gret(name):\n",
    "    return f\"Hi {name}\"\n",
    "\n",
    "gret(\"Sohel\")"
   ]
  },
  {
   "cell_type": "code",
   "execution_count": 98,
   "id": "beb4bf85",
   "metadata": {},
   "outputs": [
    {
     "name": "stdout",
     "output_type": "stream",
     "text": [
      "Hi Sohag\n"
     ]
    }
   ],
   "source": [
    "greets = gret('Sohag')\n",
    "\n",
    "print(greets)"
   ]
  },
  {
   "cell_type": "code",
   "execution_count": 99,
   "id": "63b10f5b",
   "metadata": {},
   "outputs": [
    {
     "data": {
      "text/plain": [
       "30"
      ]
     },
     "execution_count": 99,
     "metadata": {},
     "output_type": "execute_result"
    }
   ],
   "source": [
    "# Adding Two Variables\n",
    "\n",
    "def sum(a, b):\n",
    "    return a + b\n",
    "\n",
    "sum(10, 20)"
   ]
  },
  {
   "cell_type": "code",
   "execution_count": 100,
   "id": "1c33f1b4",
   "metadata": {},
   "outputs": [
    {
     "name": "stdout",
     "output_type": "stream",
     "text": [
      "100\n"
     ]
    }
   ],
   "source": [
    "total = sum(80, 20)\n",
    "print(total)"
   ]
  },
  {
   "cell_type": "code",
   "execution_count": 101,
   "id": "602c0a23",
   "metadata": {},
   "outputs": [
    {
     "name": "stdout",
     "output_type": "stream",
     "text": [
      "Hi, Everyone, I'm Sohel from Bangladesh\n"
     ]
    }
   ],
   "source": [
    "def greetings(name, country):\n",
    "    print(f\"Hi, Everyone, I'm {name} from {country}\")\n",
    "    \n",
    "greetings('Sohel', \"Bangladesh\")"
   ]
  },
  {
   "cell_type": "code",
   "execution_count": 102,
   "id": "9260a256",
   "metadata": {},
   "outputs": [
    {
     "data": {
      "text/plain": [
       "\"Hi, Everyone, I'm Sohel from Bangladesh\""
      ]
     },
     "execution_count": 102,
     "metadata": {},
     "output_type": "execute_result"
    }
   ],
   "source": [
    "def greetings(name, country):\n",
    "    return f\"Hi, Everyone, I'm {name} from {country}\"\n",
    "    \n",
    "greetings('Sohel', \"Bangladesh\")"
   ]
  },
  {
   "cell_type": "code",
   "execution_count": 103,
   "id": "601ce566",
   "metadata": {},
   "outputs": [
    {
     "name": "stdout",
     "output_type": "stream",
     "text": [
      "Hi, Everyone, I'm Sohag from Bangladesh\n"
     ]
    }
   ],
   "source": [
    "greete = greetings('Sohag', \"Bangladesh\")\n",
    "\n",
    "print(greete)"
   ]
  },
  {
   "cell_type": "code",
   "execution_count": 104,
   "id": "cbf29cf2",
   "metadata": {},
   "outputs": [
    {
     "data": {
      "text/plain": [
       "'Hi Sohag'"
      ]
     },
     "execution_count": 104,
     "metadata": {},
     "output_type": "execute_result"
    }
   ],
   "source": [
    "# Functions with default Parameter\n",
    "\n",
    "def greet(name, message='Hi'):\n",
    "    return f\"{message} {name}\"\n",
    "\n",
    "greet('Sohag', message = \"Hi\")"
   ]
  },
  {
   "cell_type": "code",
   "execution_count": 105,
   "id": "ccadb712",
   "metadata": {},
   "outputs": [
    {
     "data": {
      "text/plain": [
       "'Mahmud Sohag'"
      ]
     },
     "execution_count": 105,
     "metadata": {},
     "output_type": "execute_result"
    }
   ],
   "source": [
    "greet('Sohag', 'Mahmud')"
   ]
  },
  {
   "cell_type": "code",
   "execution_count": 106,
   "id": "4182438a",
   "metadata": {},
   "outputs": [
    {
     "data": {
      "text/plain": [
       "'Hi Sohel'"
      ]
     },
     "execution_count": 106,
     "metadata": {},
     "output_type": "execute_result"
    }
   ],
   "source": [
    "# Default Parameter\n",
    "\n",
    "greet('Sohel')"
   ]
  },
  {
   "cell_type": "code",
   "execution_count": 107,
   "id": "737bd674",
   "metadata": {},
   "outputs": [
    {
     "name": "stdout",
     "output_type": "stream",
     "text": [
      "Price BDT : 4000 TK\n",
      "Discount : 25 %\n",
      "Discount Amount BDT : 1000.0 TK\n",
      "Net Price BDT : 3000.0 TK\n"
     ]
    }
   ],
   "source": [
    "# Python Keyword Argument\n",
    "\n",
    "def get_net_price(price, discount_in_percent):\n",
    "    Cal = price * ((100 - discount_in_percent)/100)\n",
    "    dis_money = price - Cal\n",
    "    print(f\"Price BDT : {price} TK\\nDiscount : {discount_in_percent} %\\nDiscount Amount BDT : {dis_money} TK\")\n",
    "    return f\"Net Price BDT : {Cal} TK\"\n",
    "\n",
    "net_price = get_net_price(4000, 25)\n",
    "\n",
    "print(net_price)"
   ]
  },
  {
   "cell_type": "code",
   "execution_count": 108,
   "id": "98a77080",
   "metadata": {},
   "outputs": [
    {
     "name": "stdout",
     "output_type": "stream",
     "text": [
      "Price BDT : 1700 TK\n",
      "Discount : 30 %\n",
      "Discount Amount BDT : 510.0 TK\n"
     ]
    },
    {
     "data": {
      "text/plain": [
       "'Net Price BDT : 1190.0 TK'"
      ]
     },
     "execution_count": 108,
     "metadata": {},
     "output_type": "execute_result"
    }
   ],
   "source": [
    "get_net_price(1700, 30)"
   ]
  },
  {
   "cell_type": "code",
   "execution_count": 109,
   "id": "5f688432",
   "metadata": {},
   "outputs": [
    {
     "name": "stdout",
     "output_type": "stream",
     "text": [
      "55\n"
     ]
    }
   ],
   "source": [
    "# Recursive function\n",
    "\n",
    "def sum(n):\n",
    "    total = 0\n",
    "    for index in range(n+1):\n",
    "        total += index\n",
    "\n",
    "    return total\n",
    "\n",
    "\n",
    "result = sum(10)\n",
    "\n",
    "print(result)"
   ]
  },
  {
   "cell_type": "code",
   "execution_count": 110,
   "id": "ab1a7835",
   "metadata": {},
   "outputs": [
    {
     "name": "stdout",
     "output_type": "stream",
     "text": [
      "15\n"
     ]
    }
   ],
   "source": [
    "# the recursive version of the sum() function\n",
    "\n",
    "def sum(n):\n",
    "    if n > 0:\n",
    "        return n + sum(n-1)\n",
    "    return 0\n",
    "\n",
    "result = sum(5)\n",
    "\n",
    "print(result)"
   ]
  },
  {
   "cell_type": "code",
   "execution_count": 111,
   "id": "9ae22892",
   "metadata": {},
   "outputs": [
    {
     "name": "stdout",
     "output_type": "stream",
     "text": [
      "55\n"
     ]
    }
   ],
   "source": [
    "# the recursive version of the sum() function \n",
    "\n",
    "def sum(n):\n",
    "    return n + sum(n-1) if n > 0 else 0\n",
    "\n",
    "result = sum(10)\n",
    "\n",
    "print(result)"
   ]
  },
  {
   "cell_type": "markdown",
   "id": "0b62aea3",
   "metadata": {},
   "source": [
    "## Lamda Function"
   ]
  },
  {
   "cell_type": "code",
   "execution_count": 112,
   "id": "5eb14701",
   "metadata": {},
   "outputs": [
    {
     "data": {
      "text/plain": [
       "'Sohel Arman'"
      ]
     },
     "execution_count": 112,
     "metadata": {},
     "output_type": "execute_result"
    }
   ],
   "source": [
    "def first_last(first_name, last_name):\n",
    "    return f\"{first_name} {last_name}\"\n",
    "\n",
    "first_last(\"Sohel\", 'Arman')"
   ]
  },
  {
   "cell_type": "code",
   "execution_count": 113,
   "id": "09a26e38",
   "metadata": {},
   "outputs": [
    {
     "data": {
      "text/plain": [
       "'Mahmud, Sohag'"
      ]
     },
     "execution_count": 113,
     "metadata": {},
     "output_type": "execute_result"
    }
   ],
   "source": [
    "def last_first(first_name, last_name):\n",
    "    return f\"{last_name}, {first_name}\"\n",
    "\n",
    "last_first('Sohag', 'Mahmud')"
   ]
  },
  {
   "cell_type": "code",
   "execution_count": 114,
   "id": "f8ba21b5",
   "metadata": {},
   "outputs": [
    {
     "data": {
      "text/plain": [
       "<function __main__.<lambda>(first_name, last_name)>"
      ]
     },
     "execution_count": 114,
     "metadata": {},
     "output_type": "execute_result"
    }
   ],
   "source": [
    "lambda first_name,last_name: f\"{first_name} {last_name}\""
   ]
  },
  {
   "cell_type": "code",
   "execution_count": 115,
   "id": "9ec6c7eb",
   "metadata": {},
   "outputs": [
    {
     "name": "stdout",
     "output_type": "stream",
     "text": [
      "Sohag Mahmud\n",
      "Mahmud, Sohag\n"
     ]
    }
   ],
   "source": [
    "def get_full_name(first_name, last_name, formatter):\n",
    "    return formatter(first_name, last_name)\n",
    "\n",
    "\n",
    "full_name = get_full_name(\n",
    "    'Sohag',\n",
    "    'Mahmud',\n",
    "    lambda first_name, last_name: f\"{first_name} {last_name}\"\n",
    ")\n",
    "print(full_name)\n",
    "\n",
    "full_name = get_full_name(\n",
    "    'Sohag',\n",
    "    'Mahmud',\n",
    "    lambda first_name, last_name: f\"{last_name}, {first_name}\"\n",
    ")\n",
    "print(full_name)"
   ]
  },
  {
   "cell_type": "markdown",
   "id": "9dfa55c8",
   "metadata": {},
   "source": [
    "### Python Try___Except"
   ]
  },
  {
   "cell_type": "code",
   "execution_count": 116,
   "id": "06590759",
   "metadata": {},
   "outputs": [
    {
     "name": "stdout",
     "output_type": "stream",
     "text": [
      "Enter the net sales for\n",
      "- Prior period:122000\n",
      "- Current period:113500\n",
      "Sales decrease 6.967213114754099%\n"
     ]
    }
   ],
   "source": [
    "try:\n",
    "    # get input net sales\n",
    "    print('Enter the net sales for')\n",
    "\n",
    "    previous = float(input('- Prior period:'))\n",
    "    current = float(input('- Current period:'))\n",
    "\n",
    "    # calculate the change in percentage\n",
    "    change = (current - previous) * 100 / previous\n",
    "\n",
    "    # show the result\n",
    "    if change > 0:\n",
    "        result = f'Sales increase {abs(change)}%'\n",
    "    else:\n",
    "        result = f'Sales decrease {abs(change)}%'\n",
    "\n",
    "    print(result)\n",
    "except:\n",
    "    print('Error! Please enter a number for net sales calculations.')"
   ]
  },
  {
   "cell_type": "code",
   "execution_count": 117,
   "id": "07c1a9f5",
   "metadata": {},
   "outputs": [
    {
     "name": "stdout",
     "output_type": "stream",
     "text": [
      "Enter the net sales for\n",
      "- Prior period:2340\n",
      "- Current period:kjds\n",
      "Error! Please enter a number for net sales.\n"
     ]
    }
   ],
   "source": [
    "try:\n",
    "    # get input net sales\n",
    "    print('Enter the net sales for')\n",
    "\n",
    "    previous = float(input('- Prior period:'))\n",
    "    current = float(input('- Current period:'))\n",
    "\n",
    "    # calculate the change in percentage\n",
    "    change = (current - previous) * 100 / previous\n",
    "\n",
    "    # show the result\n",
    "    if change > 0:\n",
    "        result = f'Sales increase {abs(change)}%'\n",
    "    else:\n",
    "        result = f'Sales decrease {abs(change)}%'\n",
    "\n",
    "    print(result)\n",
    "except ValueError:\n",
    "    print('Error! Please enter a number for net sales.')"
   ]
  },
  {
   "cell_type": "code",
   "execution_count": 118,
   "id": "aae09583",
   "metadata": {},
   "outputs": [
    {
     "name": "stdout",
     "output_type": "stream",
     "text": [
      "Enter the net sales for\n",
      "- Prior period:0\n",
      "- Current period:5500\n",
      "Error! The prior net sales cannot be zero.\n"
     ]
    }
   ],
   "source": [
    "try:\n",
    "    # get input net sales\n",
    "    print('Enter the net sales for')\n",
    "\n",
    "    previous = float(input('- Prior period:'))\n",
    "    current = float(input('- Current period:'))\n",
    "\n",
    "    # calculate the change in percentage\n",
    "    change = (current - previous) * 100 / previous\n",
    "\n",
    "    # show the result\n",
    "    if change > 0:\n",
    "        result = f'Sales increase {abs(change)}%'\n",
    "    else:\n",
    "        result = f'Sales decrease {abs(change)}%'\n",
    "\n",
    "    print(result)\n",
    "except ValueError:\n",
    "    print('Error! Please enter a number for net sales.')\n",
    "except ZeroDivisionError:\n",
    "    print('Error! The prior net sales cannot be zero.')"
   ]
  },
  {
   "cell_type": "code",
   "execution_count": 119,
   "id": "46350ae0",
   "metadata": {},
   "outputs": [
    {
     "name": "stdout",
     "output_type": "stream",
     "text": [
      "Enter the net sales for\n",
      "- Prior period:50\n",
      "- Current period:67\n",
      "Sales increase 34.0%\n"
     ]
    }
   ],
   "source": [
    "try:\n",
    "    # get input net sales\n",
    "    print('Enter the net sales for')\n",
    "\n",
    "    previous = float(input('- Prior period:'))\n",
    "    current = float(input('- Current period:'))\n",
    "\n",
    "    # calculate the change in percentage\n",
    "    change = (current - previous) * 100 / previous\n",
    "\n",
    "    # show the result\n",
    "    if change > 0:\n",
    "        result = f'Sales increase {abs(change)}%'\n",
    "    else:\n",
    "        result = f'Sales decrease {abs(change)}%'\n",
    "\n",
    "    print(result)\n",
    "except ValueError:\n",
    "    print('Error! Please enter a number for net sales.')\n",
    "except ZeroDivisionError:\n",
    "    print('Error! The prior net sales cannot be zero.')\n",
    "except Exception as error:\n",
    "    print(error)"
   ]
  },
  {
   "cell_type": "code",
   "execution_count": 120,
   "id": "91fb22be",
   "metadata": {},
   "outputs": [
    {
     "name": "stdout",
     "output_type": "stream",
     "text": [
      "Enter the net sales for\n",
      "- Prior period:sjfd\n",
      "Error! Please enter a number for net sales.\n",
      "Finishing up.\n"
     ]
    }
   ],
   "source": [
    "try:\n",
    "    # get input net sales\n",
    "    print('Enter the net sales for')\n",
    "\n",
    "    previous = float(input('- Prior period:'))\n",
    "    current = float(input('- Current period:'))\n",
    "\n",
    "    # calculate the change in percentage\n",
    "    change = (current - previous) * 100 / previous\n",
    "\n",
    "    # show the result\n",
    "    if change > 0:\n",
    "        result = f'Sales increase {abs(change)}%'\n",
    "    else:\n",
    "        result = f'Sales decrease {abs(change)}%'\n",
    "\n",
    "    print(result)\n",
    "except ValueError:\n",
    "    print('Error! Please enter a number for net sales.')\n",
    "except ZeroDivisionError:\n",
    "    print('Error! The prior net sales cannot be zero.')\n",
    "finally:\n",
    "    print('Finishing up.')"
   ]
  },
  {
   "cell_type": "markdown",
   "id": "b0f3b2c1",
   "metadata": {},
   "source": [
    "## Read Txt File"
   ]
  },
  {
   "cell_type": "code",
   "execution_count": 121,
   "id": "7f5bfd71",
   "metadata": {},
   "outputs": [
    {
     "name": "stdout",
     "output_type": "stream",
     "text": [
      "Hi, Programmers.\n",
      "This is txt file.\n",
      "Author - SOHEL\n"
     ]
    }
   ],
   "source": [
    "with open('python_read.txt') as txt:\n",
    "    contents = txt.read()\n",
    "    print(contents)"
   ]
  },
  {
   "cell_type": "code",
   "execution_count": 122,
   "id": "3b9d4702",
   "metadata": {},
   "outputs": [
    {
     "name": "stdout",
     "output_type": "stream",
     "text": [
      "Hi, Programmers.\n",
      "\n",
      "This is txt file.\n",
      "\n",
      "Author - SOHEL\n"
     ]
    }
   ],
   "source": [
    "with open('python_read.txt') as txt:\n",
    "    [print(line) for line in txt.readlines()]"
   ]
  }
 ],
 "metadata": {
  "kernelspec": {
   "display_name": "Python 3 (ipykernel)",
   "language": "python",
   "name": "python3"
  },
  "language_info": {
   "codemirror_mode": {
    "name": "ipython",
    "version": 3
   },
   "file_extension": ".py",
   "mimetype": "text/x-python",
   "name": "python",
   "nbconvert_exporter": "python",
   "pygments_lexer": "ipython3",
   "version": "3.9.13"
  }
 },
 "nbformat": 4,
 "nbformat_minor": 5
}
